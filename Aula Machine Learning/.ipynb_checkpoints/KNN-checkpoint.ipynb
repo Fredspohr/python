{
 "cells": [
  {
   "cell_type": "code",
   "execution_count": 14,
   "metadata": {},
   "outputs": [],
   "source": [
    "class knn:\n",
    "    dados = []\n",
    "    labels = []\n",
    "    classes = []\n",
    "  \n",
    "    def __init__(self, **args):\n",
    "\n",
    "        self.k = 3\n",
    "        \n",
    "        if 'k' in args:\n",
    "            self.k = args['k']\n",
    "\n",
    "    def calculo_de(self, v1, v2):\n",
    "        if(len(v1) != len(v2)):\n",
    "            raise Exception('O Tamanho dos vetores devem ser iguais')\n",
    "        soma = 0\n",
    "        for i in range(len(v1)):\n",
    "            soma += pow(float(v2[i]) - float(v1[i]), 2)\n",
    "        return pow(soma, 0.5)\n",
    "    \n",
    "    def calcular_distancias(self, matriz, classes, vetor):    \n",
    "        distancias = []\n",
    "        for i in range(len(matriz)):\n",
    "            distancias.append([self.calculo_de(matriz[i], vetor),classes[i]])\n",
    "        return distancias\n",
    "\n",
    "    def achar_classes(self, labels):\n",
    "        classes = set()\n",
    "        for label in labels:\n",
    "            classes.add(label)\n",
    "        return classes\n",
    "\n",
    "    def predict(self, matriz):\n",
    "        labels = []\n",
    "        for linha in matriz:        \n",
    "            distancias_linha = self.calcular_distancias(self.dados, self.labels , linha)            \n",
    "            labels.append(self.contar_classes(distancias_linha))            \n",
    "        return labels\n",
    "    \n",
    "    def montar_mapa_classes(self, kdistancias):\n",
    "        mapa = {}\n",
    "        for linha in kdistancias:\n",
    "            if linha[1] in mapa:\n",
    "                mapa[linha[1]] += 1\n",
    "            else:\n",
    "                mapa.update({linha[1]:1})   \n",
    "        return mapa\n",
    "    \n",
    "    def fit(self,X, y):        \n",
    "        self.dados = X\n",
    "        self.labels = y       \n",
    "        return self\n",
    "    \n",
    "    def score(self, X, y=None):\n",
    "        predito = self.predict(X)\n",
    "        acertos = 0\n",
    "        for y_teste, y_predito in zip( y, predito):\n",
    "            if y_teste == y_predito:\n",
    "                acertos += 1\n",
    "        return acertos / len(y)\n",
    "        \n",
    "    \n",
    "    def get_params(self, deep = False):\n",
    "        return {'k':self.k}\n",
    "       \n",
    "    \n",
    "    def contar_classes(self, distancias):        \n",
    "        distancias.sort()\n",
    "        mapa = self.montar_mapa_classes(distancias[:self.k])           \n",
    "        s = [(k, mapa[k]) for k in sorted(mapa, key = mapa.get, reverse=True)]        \n",
    "        return s[0][0]"
   ]
  },
  {
   "cell_type": "code",
   "execution_count": 63,
   "metadata": {},
   "outputs": [],
   "source": [
    "import csv\n",
    "from random import seed\n",
    "from random import randrange\n",
    "\n",
    "\n",
    "dados=[]\n",
    "target=[]\n",
    "\n",
    "with open('iris.data', 'r') as csv_file:\n",
    "    csv_reader = csv.reader(csv_file)\n",
    "#     cabecalho = next(csv_reader)\n",
    "    for line in csv_reader:\n",
    "        if len(line) != 0:        \n",
    "            dados.append(line[0:4])\n",
    "            target.append(line[4])\n",
    "\n",
    "\n",
    " \n",
    "def train_test_split(dataset, target, per_teste=0.60, semente = 42):\n",
    "    seed(semente)      \n",
    "    X_train = list(dataset)\n",
    "    x_test = list()\n",
    "    y_train = list(target)\n",
    "    y_test = list()\n",
    "    test_size = per_teste * len(dataset)   \n",
    "    \n",
    "    while len(x_test) < test_size:\n",
    "        index = randrange(len(X_train))\n",
    "        x_test .append(X_train.pop(index))\n",
    "        y_test.append(y_train.pop(index))    \n",
    "    \n",
    "    return X_train, x_test, y_train, y_test\n",
    "\n",
    "\n",
    "X_train, x_test, y_train, y_test = train_test_split(dados, target, per_teste = 0.4)\n",
    "\n"
   ]
  },
  {
   "cell_type": "code",
   "execution_count": 64,
   "metadata": {},
   "outputs": [
    {
     "name": "stdout",
     "output_type": "stream",
     "text": [
      "[['5.1', '3.5', '1.4', '0.2'], ['4.7', '3.2', '1.3', '0.2'], ['4.6', '3.1', '1.5', '0.2'], ['5.0', '3.6', '1.4', '0.2'], ['5.4', '3.9', '1.7', '0.4'], ['4.8', '3.4', '1.6', '0.2'], ['4.8', '3.0', '1.4', '0.1'], ['4.3', '3.0', '1.1', '0.1'], ['5.7', '4.4', '1.5', '0.4'], ['5.4', '3.4', '1.7', '0.2'], ['5.1', '3.7', '1.5', '0.4'], ['4.6', '3.6', '1.0', '0.2'], ['4.8', '3.4', '1.9', '0.2'], ['5.4', '3.4', '1.5', '0.4'], ['5.2', '4.1', '1.5', '0.1'], ['5.5', '4.2', '1.4', '0.2'], ['4.9', '3.1', '1.5', '0.1'], ['5.0', '3.2', '1.2', '0.2'], ['5.5', '3.5', '1.3', '0.2'], ['4.4', '3.0', '1.3', '0.2'], ['5.0', '3.5', '1.3', '0.3'], ['4.5', '2.3', '1.3', '0.3'], ['4.4', '3.2', '1.3', '0.2'], ['5.1', '3.8', '1.9', '0.4'], ['4.8', '3.0', '1.4', '0.3'], ['4.6', '3.2', '1.4', '0.2'], ['5.3', '3.7', '1.5', '0.2'], ['5.0', '3.3', '1.4', '0.2'], ['6.4', '3.2', '4.5', '1.5'], ['6.9', '3.1', '4.9', '1.5'], ['5.5', '2.3', '4.0', '1.3'], ['5.7', '2.8', '4.5', '1.3'], ['6.3', '3.3', '4.7', '1.6'], ['4.9', '2.4', '3.3', '1.0'], ['5.9', '3.0', '4.2', '1.5'], ['6.1', '2.9', '4.7', '1.4'], ['5.6', '3.0', '4.5', '1.5'], ['6.1', '2.8', '4.7', '1.2'], ['6.6', '3.0', '4.4', '1.4'], ['6.8', '2.8', '4.8', '1.4'], ['6.7', '3.0', '5.0', '1.7'], ['6.0', '2.9', '4.5', '1.5'], ['5.7', '2.6', '3.5', '1.0'], ['5.5', '2.4', '3.8', '1.1'], ['6.0', '2.7', '5.1', '1.6'], ['5.4', '3.0', '4.5', '1.5'], ['6.0', '3.4', '4.5', '1.6'], ['6.7', '3.1', '4.7', '1.5'], ['5.6', '3.0', '4.1', '1.3'], ['5.5', '2.5', '4.0', '1.3'], ['5.5', '2.6', '4.4', '1.2'], ['5.8', '2.6', '4.0', '1.2'], ['5.0', '2.3', '3.3', '1.0'], ['5.6', '2.7', '4.2', '1.3'], ['5.7', '3.0', '4.2', '1.2'], ['5.7', '2.9', '4.2', '1.3'], ['6.2', '2.9', '4.3', '1.3'], ['5.1', '2.5', '3.0', '1.1'], ['5.7', '2.8', '4.1', '1.3'], ['6.3', '3.3', '6.0', '2.5'], ['5.8', '2.7', '5.1', '1.9'], ['6.3', '2.9', '5.6', '1.8'], ['6.5', '3.0', '5.8', '2.2'], ['7.6', '3.0', '6.6', '2.1'], ['4.9', '2.5', '4.5', '1.7'], ['7.3', '2.9', '6.3', '1.8'], ['6.4', '2.7', '5.3', '1.9'], ['6.8', '3.0', '5.5', '2.1'], ['5.7', '2.5', '5.0', '2.0'], ['5.8', '2.8', '5.1', '2.4'], ['7.7', '3.8', '6.7', '2.2'], ['6.0', '2.2', '5.0', '1.5'], ['6.9', '3.2', '5.7', '2.3'], ['5.6', '2.8', '4.9', '2.0'], ['7.7', '2.8', '6.7', '2.0'], ['6.4', '2.8', '5.6', '2.1'], ['7.2', '3.0', '5.8', '1.6'], ['7.4', '2.8', '6.1', '1.9'], ['7.9', '3.8', '6.4', '2.0'], ['6.3', '2.8', '5.1', '1.5'], ['7.7', '3.0', '6.1', '2.3'], ['6.3', '3.4', '5.6', '2.4'], ['6.4', '3.1', '5.5', '1.8'], ['6.0', '3.0', '4.8', '1.8'], ['6.9', '3.1', '5.4', '2.1'], ['6.7', '3.1', '5.6', '2.4'], ['6.9', '3.1', '5.1', '2.3'], ['5.8', '2.7', '5.1', '1.9'], ['6.7', '3.0', '5.2', '2.3'], ['5.9', '3.0', '5.1', '1.8']]\n"
     ]
    }
   ],
   "source": [
    "#  modelo = knn(k= 3, dados = X_train, labels = y_train)\n",
    "modelo = knn(k= 3)\n",
    "modelo.fit(X_train, y_train)\n",
    "\n",
    "print(X_train)"
   ]
  },
  {
   "cell_type": "code",
   "execution_count": 66,
   "metadata": {
    "scrolled": true
   },
   "outputs": [
    {
     "name": "stdout",
     "output_type": "stream",
     "text": [
      "                 precision    recall  f1-score   support\n",
      "\n",
      "    Iris-setosa       1.00      1.00      1.00        22\n",
      "Iris-versicolor       1.00      0.89      0.94        19\n",
      " Iris-virginica       0.90      1.00      0.95        19\n",
      "\n",
      "      micro avg       0.97      0.97      0.97        60\n",
      "      macro avg       0.97      0.96      0.96        60\n",
      "   weighted avg       0.97      0.97      0.97        60\n",
      "\n",
      "[[22  0  0]\n",
      " [ 0 17  2]\n",
      " [ 0  0 19]]\n",
      "0.9666666666666667\n",
      "0.9466666666666667\n"
     ]
    }
   ],
   "source": [
    "from sklearn import metrics\n",
    "from sklearn.model_selection import cross_val_score\n",
    "\n",
    "predict = modelo.predict(x_test)\n",
    "\n",
    "print(metrics.classification_report(y_test, predict))\n",
    "print(metrics.confusion_matrix(y_test, predict))\n",
    "print(modelo.score(x_test,y_test))\n",
    "\n",
    "score = cross_val_score(modelo, dados, target, cv=10)\n",
    "print(score.mean())\n",
    "\n",
    "\n",
    "# metrics."
   ]
  },
  {
   "cell_type": "code",
   "execution_count": null,
   "metadata": {},
   "outputs": [],
   "source": []
  }
 ],
 "metadata": {
  "kernelspec": {
   "display_name": "Python 3",
   "language": "python",
   "name": "python3"
  },
  "language_info": {
   "codemirror_mode": {
    "name": "ipython",
    "version": 3
   },
   "file_extension": ".py",
   "mimetype": "text/x-python",
   "name": "python",
   "nbconvert_exporter": "python",
   "pygments_lexer": "ipython3",
   "version": "3.5.2"
  }
 },
 "nbformat": 4,
 "nbformat_minor": 2
}
