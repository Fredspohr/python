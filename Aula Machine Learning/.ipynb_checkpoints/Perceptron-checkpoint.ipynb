{
 "cells": [
  {
   "cell_type": "markdown",
   "metadata": {},
   "source": [
    "https://medium.com/@thomascountz/19-line-line-by-line-python-perceptron-b6f113b161f3\n",
    "\n",
    "https://juliocprocha.wordpress.com/2017/08/14/perceptron-em-python/\n"
   ]
  },
  {
   "cell_type": "code",
   "execution_count": 1,
   "metadata": {},
   "outputs": [],
   "source": [
    "import numpy as np\n"
   ]
  },
  {
   "cell_type": "code",
   "execution_count": 32,
   "metadata": {},
   "outputs": [],
   "source": [
    "import numpy as np\n",
    "\n",
    "class Perceptron(object):\n",
    "\n",
    "    def __init__(self, no_of_inputs, threshold=100, learning_rate=0.01):\n",
    "        self.threshold = threshold\n",
    "        self.learning_rate = learning_rate\n",
    "        self.weights = np.zeros(no_of_inputs + 1)\n",
    "           \n",
    "    def predict(self, inputs):\n",
    "        summation = np.dot(inputs, self.weights[1:]) + self.weights[0]\n",
    "        if summation > 0:\n",
    "            activation = 1\n",
    "        else:\n",
    "            activation = 0            \n",
    "        return activation\n",
    "\n",
    "    def train(self, training_inputs, labels):\n",
    "        for _ in range(self.threshold):\n",
    "            for inputs, label in zip(training_inputs, labels):\n",
    "                prediction = self.predict(inputs)\n",
    "                self.weights[1:] += self.learning_rate * (label - prediction) * inputs\n",
    "                self.weights[0] += self.learning_rate * (label - prediction)"
   ]
  },
  {
   "cell_type": "markdown",
   "metadata": {},
   "source": [
    "Implemtando o and"
   ]
  },
  {
   "cell_type": "code",
   "execution_count": 47,
   "metadata": {},
   "outputs": [
    {
     "name": "stdout",
     "output_type": "stream",
     "text": [
      "1\n",
      "0\n",
      "0\n",
      "0\n"
     ]
    }
   ],
   "source": [
    "x_data = np.array([[1,1],[1,0],[0,1],[0,0]])\n",
    "y_data = np.array([1,0,0,0])\n",
    "\n",
    "perceptron_and = Perceptron(2)\n",
    "perceptron_and.train(x_data,y_data)\n",
    "\n",
    "for x in x_data:\n",
    "    print(perceptron_and.predict(x))"
   ]
  },
  {
   "cell_type": "markdown",
   "metadata": {},
   "source": [
    "Implentando o or"
   ]
  },
  {
   "cell_type": "code",
   "execution_count": 49,
   "metadata": {},
   "outputs": [
    {
     "name": "stdout",
     "output_type": "stream",
     "text": [
      "1\n",
      "1\n",
      "1\n",
      "0\n"
     ]
    }
   ],
   "source": [
    "y_data = np.array([1,1,1,0])\n",
    "\n",
    "perceptron_or = Perceptron(2)\n",
    "perceptron_or.train(x_data,y_data)\n",
    "\n",
    "for x in x_data:\n",
    "    print(perceptron_or.predict(x))"
   ]
  },
  {
   "cell_type": "code",
   "execution_count": 52,
   "metadata": {},
   "outputs": [
    {
     "name": "stdout",
     "output_type": "stream",
     "text": [
      "1\n",
      "1\n",
      "0\n",
      "0\n"
     ]
    }
   ],
   "source": [
    "y_data = np.array([0,1,1,0])\n",
    "\n",
    "perceptron_or = Perceptron(2)\n",
    "perceptron_or.train(x_data,y_data)\n",
    "\n",
    "for x in x_data:\n",
    "    print(perceptron_or.predict(x))"
   ]
  },
  {
   "cell_type": "code",
   "execution_count": 60,
   "metadata": {},
   "outputs": [],
   "source": [
    "from keras.models import Sequential\n",
    "from keras.layers import Dense\n",
    "from keras import losses\n",
    "\n",
    "\n",
    "model = Sequential()\n",
    "model.add(Dense(32, input_dim=2, activation='relu'))\n",
    "model.add(Dense(1,activation='softmax'))\n",
    "\n",
    "# losses.\n",
    "\n",
    "model.compile(loss='binary_crossentropy',\n",
    "              optimizer='sgd',\n",
    "              metrics=['accuracy'])"
   ]
  },
  {
   "cell_type": "code",
   "execution_count": 61,
   "metadata": {},
   "outputs": [
    {
     "name": "stdout",
     "output_type": "stream",
     "text": [
      "Epoch 1/100\n",
      "4/4 [==============================] - 0s 91ms/step - loss: 7.9712 - acc: 0.5000\n",
      "Epoch 2/100\n",
      "4/4 [==============================] - 0s 431us/step - loss: 7.9712 - acc: 0.5000\n",
      "Epoch 3/100\n",
      "4/4 [==============================] - 0s 456us/step - loss: 7.9712 - acc: 0.5000\n",
      "Epoch 4/100\n",
      "4/4 [==============================] - 0s 957us/step - loss: 7.9712 - acc: 0.5000\n",
      "Epoch 5/100\n",
      "4/4 [==============================] - 0s 475us/step - loss: 7.9712 - acc: 0.5000\n",
      "Epoch 6/100\n",
      "4/4 [==============================] - 0s 1ms/step - loss: 7.9712 - acc: 0.5000\n",
      "Epoch 7/100\n",
      "4/4 [==============================] - 0s 472us/step - loss: 7.9712 - acc: 0.5000\n",
      "Epoch 8/100\n",
      "4/4 [==============================] - 0s 627us/step - loss: 7.9712 - acc: 0.5000\n",
      "Epoch 9/100\n",
      "4/4 [==============================] - 0s 2ms/step - loss: 7.9712 - acc: 0.5000\n",
      "Epoch 10/100\n",
      "4/4 [==============================] - 0s 1ms/step - loss: 7.9712 - acc: 0.5000\n",
      "Epoch 11/100\n",
      "4/4 [==============================] - 0s 861us/step - loss: 7.9712 - acc: 0.5000\n",
      "Epoch 12/100\n",
      "4/4 [==============================] - 0s 715us/step - loss: 7.9712 - acc: 0.5000\n",
      "Epoch 13/100\n",
      "4/4 [==============================] - 0s 571us/step - loss: 7.9712 - acc: 0.5000\n",
      "Epoch 14/100\n",
      "4/4 [==============================] - 0s 537us/step - loss: 7.9712 - acc: 0.5000\n",
      "Epoch 15/100\n",
      "4/4 [==============================] - 0s 510us/step - loss: 7.9712 - acc: 0.5000\n",
      "Epoch 16/100\n",
      "4/4 [==============================] - 0s 2ms/step - loss: 7.9712 - acc: 0.5000\n",
      "Epoch 17/100\n",
      "4/4 [==============================] - 0s 503us/step - loss: 7.9712 - acc: 0.5000\n",
      "Epoch 18/100\n",
      "4/4 [==============================] - 0s 651us/step - loss: 7.9712 - acc: 0.5000\n",
      "Epoch 19/100\n",
      "4/4 [==============================] - 0s 630us/step - loss: 7.9712 - acc: 0.5000\n",
      "Epoch 20/100\n",
      "4/4 [==============================] - 0s 544us/step - loss: 7.9712 - acc: 0.5000\n",
      "Epoch 21/100\n",
      "4/4 [==============================] - 0s 446us/step - loss: 7.9712 - acc: 0.5000\n",
      "Epoch 22/100\n",
      "4/4 [==============================] - 0s 1ms/step - loss: 7.9712 - acc: 0.5000\n",
      "Epoch 23/100\n",
      "4/4 [==============================] - 0s 948us/step - loss: 7.9712 - acc: 0.5000\n",
      "Epoch 24/100\n",
      "4/4 [==============================] - 0s 770us/step - loss: 7.9712 - acc: 0.5000\n",
      "Epoch 25/100\n",
      "4/4 [==============================] - 0s 503us/step - loss: 7.9712 - acc: 0.5000\n",
      "Epoch 26/100\n",
      "4/4 [==============================] - 0s 599us/step - loss: 7.9712 - acc: 0.5000\n",
      "Epoch 27/100\n",
      "4/4 [==============================] - 0s 447us/step - loss: 7.9712 - acc: 0.5000\n",
      "Epoch 28/100\n",
      "4/4 [==============================] - 0s 485us/step - loss: 7.9712 - acc: 0.5000\n",
      "Epoch 29/100\n",
      "4/4 [==============================] - 0s 481us/step - loss: 7.9712 - acc: 0.5000\n",
      "Epoch 30/100\n",
      "4/4 [==============================] - 0s 417us/step - loss: 7.9712 - acc: 0.5000\n",
      "Epoch 31/100\n",
      "4/4 [==============================] - 0s 470us/step - loss: 7.9712 - acc: 0.5000\n",
      "Epoch 32/100\n",
      "4/4 [==============================] - 0s 419us/step - loss: 7.9712 - acc: 0.5000\n",
      "Epoch 33/100\n",
      "4/4 [==============================] - 0s 440us/step - loss: 7.9712 - acc: 0.5000\n",
      "Epoch 34/100\n",
      "4/4 [==============================] - 0s 397us/step - loss: 7.9712 - acc: 0.5000\n",
      "Epoch 35/100\n",
      "4/4 [==============================] - 0s 405us/step - loss: 7.9712 - acc: 0.5000\n",
      "Epoch 36/100\n",
      "4/4 [==============================] - 0s 319us/step - loss: 7.9712 - acc: 0.5000\n",
      "Epoch 37/100\n",
      "4/4 [==============================] - 0s 354us/step - loss: 7.9712 - acc: 0.5000\n",
      "Epoch 38/100\n",
      "4/4 [==============================] - 0s 464us/step - loss: 7.9712 - acc: 0.5000\n",
      "Epoch 39/100\n",
      "4/4 [==============================] - 0s 422us/step - loss: 7.9712 - acc: 0.5000\n",
      "Epoch 40/100\n",
      "4/4 [==============================] - 0s 1ms/step - loss: 7.9712 - acc: 0.5000\n",
      "Epoch 41/100\n",
      "4/4 [==============================] - 0s 361us/step - loss: 7.9712 - acc: 0.5000\n",
      "Epoch 42/100\n",
      "4/4 [==============================] - 0s 332us/step - loss: 7.9712 - acc: 0.5000\n",
      "Epoch 43/100\n",
      "4/4 [==============================] - 0s 459us/step - loss: 7.9712 - acc: 0.5000\n",
      "Epoch 44/100\n",
      "4/4 [==============================] - 0s 583us/step - loss: 7.9712 - acc: 0.5000\n",
      "Epoch 45/100\n",
      "4/4 [==============================] - 0s 650us/step - loss: 7.9712 - acc: 0.5000\n",
      "Epoch 46/100\n",
      "4/4 [==============================] - 0s 514us/step - loss: 7.9712 - acc: 0.5000\n",
      "Epoch 47/100\n",
      "4/4 [==============================] - 0s 573us/step - loss: 7.9712 - acc: 0.5000\n",
      "Epoch 48/100\n",
      "4/4 [==============================] - 0s 620us/step - loss: 7.9712 - acc: 0.5000\n",
      "Epoch 49/100\n",
      "4/4 [==============================] - 0s 726us/step - loss: 7.9712 - acc: 0.5000\n",
      "Epoch 50/100\n",
      "4/4 [==============================] - 0s 440us/step - loss: 7.9712 - acc: 0.5000\n",
      "Epoch 51/100\n",
      "4/4 [==============================] - 0s 480us/step - loss: 7.9712 - acc: 0.5000\n",
      "Epoch 52/100\n",
      "4/4 [==============================] - 0s 498us/step - loss: 7.9712 - acc: 0.5000\n",
      "Epoch 53/100\n",
      "4/4 [==============================] - 0s 351us/step - loss: 7.9712 - acc: 0.5000\n",
      "Epoch 54/100\n",
      "4/4 [==============================] - 0s 1ms/step - loss: 7.9712 - acc: 0.5000\n",
      "Epoch 55/100\n",
      "4/4 [==============================] - 0s 438us/step - loss: 7.9712 - acc: 0.5000\n",
      "Epoch 56/100\n",
      "4/4 [==============================] - 0s 512us/step - loss: 7.9712 - acc: 0.5000\n",
      "Epoch 57/100\n",
      "4/4 [==============================] - 0s 760us/step - loss: 7.9712 - acc: 0.5000\n",
      "Epoch 58/100\n",
      "4/4 [==============================] - 0s 600us/step - loss: 7.9712 - acc: 0.5000\n",
      "Epoch 59/100\n",
      "4/4 [==============================] - 0s 551us/step - loss: 7.9712 - acc: 0.5000\n",
      "Epoch 60/100\n",
      "4/4 [==============================] - 0s 725us/step - loss: 7.9712 - acc: 0.5000\n",
      "Epoch 61/100\n",
      "4/4 [==============================] - 0s 673us/step - loss: 7.9712 - acc: 0.5000\n",
      "Epoch 62/100\n",
      "4/4 [==============================] - 0s 527us/step - loss: 7.9712 - acc: 0.5000\n",
      "Epoch 63/100\n",
      "4/4 [==============================] - 0s 584us/step - loss: 7.9712 - acc: 0.5000\n",
      "Epoch 64/100\n",
      "4/4 [==============================] - 0s 744us/step - loss: 7.9712 - acc: 0.5000\n",
      "Epoch 65/100\n",
      "4/4 [==============================] - 0s 864us/step - loss: 7.9712 - acc: 0.5000\n",
      "Epoch 66/100\n",
      "4/4 [==============================] - 0s 450us/step - loss: 7.9712 - acc: 0.5000\n",
      "Epoch 67/100\n",
      "4/4 [==============================] - 0s 412us/step - loss: 7.9712 - acc: 0.5000\n",
      "Epoch 68/100\n",
      "4/4 [==============================] - 0s 467us/step - loss: 7.9712 - acc: 0.5000\n",
      "Epoch 69/100\n",
      "4/4 [==============================] - 0s 373us/step - loss: 7.9712 - acc: 0.5000\n",
      "Epoch 70/100\n",
      "4/4 [==============================] - 0s 410us/step - loss: 7.9712 - acc: 0.5000\n",
      "Epoch 71/100\n",
      "4/4 [==============================] - 0s 435us/step - loss: 7.9712 - acc: 0.5000\n",
      "Epoch 72/100\n",
      "4/4 [==============================] - 0s 442us/step - loss: 7.9712 - acc: 0.5000\n",
      "Epoch 73/100\n",
      "4/4 [==============================] - 0s 419us/step - loss: 7.9712 - acc: 0.5000\n",
      "Epoch 74/100\n",
      "4/4 [==============================] - 0s 423us/step - loss: 7.9712 - acc: 0.5000\n",
      "Epoch 75/100\n",
      "4/4 [==============================] - 0s 509us/step - loss: 7.9712 - acc: 0.5000\n",
      "Epoch 76/100\n",
      "4/4 [==============================] - 0s 559us/step - loss: 7.9712 - acc: 0.5000\n",
      "Epoch 77/100\n",
      "4/4 [==============================] - 0s 477us/step - loss: 7.9712 - acc: 0.5000\n",
      "Epoch 78/100\n",
      "4/4 [==============================] - 0s 425us/step - loss: 7.9712 - acc: 0.5000\n",
      "Epoch 79/100\n",
      "4/4 [==============================] - 0s 464us/step - loss: 7.9712 - acc: 0.5000\n",
      "Epoch 80/100\n",
      "4/4 [==============================] - 0s 458us/step - loss: 7.9712 - acc: 0.5000\n",
      "Epoch 81/100\n",
      "4/4 [==============================] - 0s 628us/step - loss: 7.9712 - acc: 0.5000\n",
      "Epoch 82/100\n",
      "4/4 [==============================] - 0s 498us/step - loss: 7.9712 - acc: 0.5000\n",
      "Epoch 83/100\n",
      "4/4 [==============================] - 0s 493us/step - loss: 7.9712 - acc: 0.5000\n",
      "Epoch 84/100\n",
      "4/4 [==============================] - 0s 883us/step - loss: 7.9712 - acc: 0.5000\n",
      "Epoch 85/100\n",
      "4/4 [==============================] - 0s 360us/step - loss: 7.9712 - acc: 0.5000\n",
      "Epoch 86/100\n",
      "4/4 [==============================] - 0s 347us/step - loss: 7.9712 - acc: 0.5000\n",
      "Epoch 87/100\n",
      "4/4 [==============================] - 0s 499us/step - loss: 7.9712 - acc: 0.5000\n"
     ]
    },
    {
     "name": "stdout",
     "output_type": "stream",
     "text": [
      "Epoch 88/100\n",
      "4/4 [==============================] - 0s 486us/step - loss: 7.9712 - acc: 0.5000\n",
      "Epoch 89/100\n",
      "4/4 [==============================] - 0s 471us/step - loss: 7.9712 - acc: 0.5000\n",
      "Epoch 90/100\n",
      "4/4 [==============================] - 0s 441us/step - loss: 7.9712 - acc: 0.5000\n",
      "Epoch 91/100\n",
      "4/4 [==============================] - 0s 410us/step - loss: 7.9712 - acc: 0.5000\n",
      "Epoch 92/100\n",
      "4/4 [==============================] - 0s 458us/step - loss: 7.9712 - acc: 0.5000\n",
      "Epoch 93/100\n",
      "4/4 [==============================] - 0s 366us/step - loss: 7.9712 - acc: 0.5000\n",
      "Epoch 94/100\n",
      "4/4 [==============================] - 0s 363us/step - loss: 7.9712 - acc: 0.5000\n",
      "Epoch 95/100\n",
      "4/4 [==============================] - 0s 446us/step - loss: 7.9712 - acc: 0.5000\n",
      "Epoch 96/100\n",
      "4/4 [==============================] - 0s 515us/step - loss: 7.9712 - acc: 0.5000\n",
      "Epoch 97/100\n",
      "4/4 [==============================] - 0s 557us/step - loss: 7.9712 - acc: 0.5000\n",
      "Epoch 98/100\n",
      "4/4 [==============================] - 0s 463us/step - loss: 7.9712 - acc: 0.5000\n",
      "Epoch 99/100\n",
      "4/4 [==============================] - 0s 457us/step - loss: 7.9712 - acc: 0.5000\n",
      "Epoch 100/100\n",
      "4/4 [==============================] - 0s 435us/step - loss: 7.9712 - acc: 0.5000\n"
     ]
    },
    {
     "data": {
      "text/plain": [
       "<keras.callbacks.History at 0x7fd4f8082ef0>"
      ]
     },
     "execution_count": 61,
     "metadata": {},
     "output_type": "execute_result"
    }
   ],
   "source": [
    "model.fit(x_data,y_data,epochs=100)"
   ]
  },
  {
   "cell_type": "code",
   "execution_count": 63,
   "metadata": {},
   "outputs": [
    {
     "ename": "ValueError",
     "evalue": "Error when checking input: expected dense_9_input to have shape (2,) but got array with shape (1,)",
     "output_type": "error",
     "traceback": [
      "\u001b[0;31m---------------------------------------\u001b[0m",
      "\u001b[0;31mValueError\u001b[0mTraceback (most recent call last)",
      "\u001b[0;32m<ipython-input-63-9158340b2ec9>\u001b[0m in \u001b[0;36m<module>\u001b[0;34m\u001b[0m\n\u001b[0;32m----> 1\u001b[0;31m \u001b[0mmodel\u001b[0m\u001b[0;34m.\u001b[0m\u001b[0mpredict\u001b[0m\u001b[0;34m(\u001b[0m\u001b[0;34m[\u001b[0m\u001b[0;36m1\u001b[0m\u001b[0;34m,\u001b[0m\u001b[0;36m1\u001b[0m\u001b[0;34m]\u001b[0m\u001b[0;34m)\u001b[0m\u001b[0;34m\u001b[0m\u001b[0m\n\u001b[0m",
      "\u001b[0;32m~/.local/lib/python3.5/site-packages/keras/engine/training.py\u001b[0m in \u001b[0;36mpredict\u001b[0;34m(self, x, batch_size, verbose, steps)\u001b[0m\n\u001b[1;32m   1147\u001b[0m                              'argument.')\n\u001b[1;32m   1148\u001b[0m         \u001b[0;31m# Validate user data.\u001b[0m\u001b[0;34m\u001b[0m\u001b[0;34m\u001b[0m\u001b[0m\n\u001b[0;32m-> 1149\u001b[0;31m         \u001b[0mx\u001b[0m\u001b[0;34m,\u001b[0m \u001b[0m_\u001b[0m\u001b[0;34m,\u001b[0m \u001b[0m_\u001b[0m \u001b[0;34m=\u001b[0m \u001b[0mself\u001b[0m\u001b[0;34m.\u001b[0m\u001b[0m_standardize_user_data\u001b[0m\u001b[0;34m(\u001b[0m\u001b[0mx\u001b[0m\u001b[0;34m)\u001b[0m\u001b[0;34m\u001b[0m\u001b[0m\n\u001b[0m\u001b[1;32m   1150\u001b[0m         \u001b[0;32mif\u001b[0m \u001b[0mself\u001b[0m\u001b[0;34m.\u001b[0m\u001b[0mstateful\u001b[0m\u001b[0;34m:\u001b[0m\u001b[0;34m\u001b[0m\u001b[0m\n\u001b[1;32m   1151\u001b[0m             \u001b[0;32mif\u001b[0m \u001b[0mx\u001b[0m\u001b[0;34m[\u001b[0m\u001b[0;36m0\u001b[0m\u001b[0;34m]\u001b[0m\u001b[0;34m.\u001b[0m\u001b[0mshape\u001b[0m\u001b[0;34m[\u001b[0m\u001b[0;36m0\u001b[0m\u001b[0;34m]\u001b[0m \u001b[0;34m>\u001b[0m \u001b[0mbatch_size\u001b[0m \u001b[0;32mand\u001b[0m \u001b[0mx\u001b[0m\u001b[0;34m[\u001b[0m\u001b[0;36m0\u001b[0m\u001b[0;34m]\u001b[0m\u001b[0;34m.\u001b[0m\u001b[0mshape\u001b[0m\u001b[0;34m[\u001b[0m\u001b[0;36m0\u001b[0m\u001b[0;34m]\u001b[0m \u001b[0;34m%\u001b[0m \u001b[0mbatch_size\u001b[0m \u001b[0;34m!=\u001b[0m \u001b[0;36m0\u001b[0m\u001b[0;34m:\u001b[0m\u001b[0;34m\u001b[0m\u001b[0m\n",
      "\u001b[0;32m~/.local/lib/python3.5/site-packages/keras/engine/training.py\u001b[0m in \u001b[0;36m_standardize_user_data\u001b[0;34m(self, x, y, sample_weight, class_weight, check_array_lengths, batch_size)\u001b[0m\n\u001b[1;32m    749\u001b[0m             \u001b[0mfeed_input_shapes\u001b[0m\u001b[0;34m,\u001b[0m\u001b[0;34m\u001b[0m\u001b[0m\n\u001b[1;32m    750\u001b[0m             \u001b[0mcheck_batch_axis\u001b[0m\u001b[0;34m=\u001b[0m\u001b[0;32mFalse\u001b[0m\u001b[0;34m,\u001b[0m  \u001b[0;31m# Don't enforce the batch size.\u001b[0m\u001b[0;34m\u001b[0m\u001b[0m\n\u001b[0;32m--> 751\u001b[0;31m             exception_prefix='input')\n\u001b[0m\u001b[1;32m    752\u001b[0m \u001b[0;34m\u001b[0m\u001b[0m\n\u001b[1;32m    753\u001b[0m         \u001b[0;32mif\u001b[0m \u001b[0my\u001b[0m \u001b[0;32mis\u001b[0m \u001b[0;32mnot\u001b[0m \u001b[0;32mNone\u001b[0m\u001b[0;34m:\u001b[0m\u001b[0;34m\u001b[0m\u001b[0m\n",
      "\u001b[0;32m~/.local/lib/python3.5/site-packages/keras/engine/training_utils.py\u001b[0m in \u001b[0;36mstandardize_input_data\u001b[0;34m(data, names, shapes, check_batch_axis, exception_prefix)\u001b[0m\n\u001b[1;32m    136\u001b[0m                             \u001b[0;34m': expected '\u001b[0m \u001b[0;34m+\u001b[0m \u001b[0mnames\u001b[0m\u001b[0;34m[\u001b[0m\u001b[0mi\u001b[0m\u001b[0;34m]\u001b[0m \u001b[0;34m+\u001b[0m \u001b[0;34m' to have shape '\u001b[0m \u001b[0;34m+\u001b[0m\u001b[0;34m\u001b[0m\u001b[0m\n\u001b[1;32m    137\u001b[0m                             \u001b[0mstr\u001b[0m\u001b[0;34m(\u001b[0m\u001b[0mshape\u001b[0m\u001b[0;34m)\u001b[0m \u001b[0;34m+\u001b[0m \u001b[0;34m' but got array with shape '\u001b[0m \u001b[0;34m+\u001b[0m\u001b[0;34m\u001b[0m\u001b[0m\n\u001b[0;32m--> 138\u001b[0;31m                             str(data_shape))\n\u001b[0m\u001b[1;32m    139\u001b[0m     \u001b[0;32mreturn\u001b[0m \u001b[0mdata\u001b[0m\u001b[0;34m\u001b[0m\u001b[0m\n\u001b[1;32m    140\u001b[0m \u001b[0;34m\u001b[0m\u001b[0m\n",
      "\u001b[0;31mValueError\u001b[0m: Error when checking input: expected dense_9_input to have shape (2,) but got array with shape (1,)"
     ]
    }
   ],
   "source": [
    "model.predict([1,1])"
   ]
  }
 ],
 "metadata": {
  "kernelspec": {
   "display_name": "Python 3",
   "language": "python",
   "name": "python3"
  },
  "language_info": {
   "codemirror_mode": {
    "name": "ipython",
    "version": 3
   },
   "file_extension": ".py",
   "mimetype": "text/x-python",
   "name": "python",
   "nbconvert_exporter": "python",
   "pygments_lexer": "ipython3",
   "version": "3.5.2"
  }
 },
 "nbformat": 4,
 "nbformat_minor": 2
}
