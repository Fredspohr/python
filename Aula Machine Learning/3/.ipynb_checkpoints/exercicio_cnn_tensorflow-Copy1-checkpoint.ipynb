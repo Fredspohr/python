{
 "cells": [
  {
   "cell_type": "code",
   "execution_count": 1,
   "metadata": {
    "scrolled": true
   },
   "outputs": [],
   "source": [
    "import tensorflow as tf\n",
    "\n",
    "tf.logging.set_verbosity(tf.logging.ERROR)\n",
    "\n",
    "from tensorflow.examples.tutorials.mnist import input_data"
   ]
  },
  {
   "cell_type": "code",
   "execution_count": 3,
   "metadata": {},
   "outputs": [
    {
     "name": "stdout",
     "output_type": "stream",
     "text": [
      "Extracting mnist/train-images-idx3-ubyte.gz\n",
      "Extracting mnist/train-labels-idx1-ubyte.gz\n",
      "Extracting mnist/t10k-images-idx3-ubyte.gz\n",
      "Extracting mnist/t10k-labels-idx1-ubyte.gz\n",
      "##############################\n",
      "x_test: (10000, 784)\n",
      "y_test: (10000, 10)\n"
     ]
    }
   ],
   "source": [
    "mnist = input_data.read_data_sets('mnist/', one_hot=True)\n",
    "\n",
    "training_set = mnist.train\n",
    "\n",
    "x_test, y_test = mnist.test.images, mnist.test.labels\n",
    "\n",
    "print('##############################')\n",
    "print('x_test: {}'.format(x_test.shape))\n",
    "print('y_test: {}'.format(y_test.shape))"
   ]
  },
  {
   "cell_type": "code",
   "execution_count": 4,
   "metadata": {},
   "outputs": [],
   "source": [
    "# Parâmetros utilizados pela rede\n",
    "learning_rate = 0.01\n",
    "epochs = 10\n",
    "batch_size = 128\n",
    "\n",
    "n_input = 784 # O tamanho de cada imagem do dataset MNIST é 28x28\n",
    "n_output = 10 # 0-9"
   ]
  },
  {
   "cell_type": "code",
   "execution_count": 5,
   "metadata": {},
   "outputs": [],
   "source": [
    "x = tf.placeholder(\"float\", [None, n_input])\n",
    "y = tf.placeholder(\"float\", [None, n_output])"
   ]
  },
  {
   "cell_type": "code",
   "execution_count": 6,
   "metadata": {},
   "outputs": [],
   "source": [
    "# Célula para criação das variáveis referentes aos pesos e bias\n",
    "weights = {\n",
    "    'w1': tf.Variable(tf.random_normal([n_input, 256]), name='w1'),\n",
    "    'w2': tf.Variable(tf.random_normal([256, 256]), name='w2'),\n",
    "    'out': tf.Variable(tf.random_normal([256, n_output]), name='out_w')\n",
    "}\n",
    "biases = {\n",
    "    'b1': tf.Variable(tf.random_normal([256]), name='b1'),\n",
    "    'b2': tf.Variable(tf.random_normal([256]), name='b2'),\n",
    "    'out': tf.Variable(tf.random_normal([n_output]), name='out_b')\n",
    "}"
   ]
  },
  {
   "cell_type": "code",
   "execution_count": 7,
   "metadata": {},
   "outputs": [],
   "source": [
    "# Construção do modelo\n",
    "def NN(x):\n",
    "    first_layer = tf.add(tf.matmul(x, weights['w1']), biases['b1'])\n",
    "    first_layer = tf.nn.relu(first_layer)\n",
    "    \n",
    "    second_layer = tf.add(tf.matmul(first_layer, weights['w2']), biases['b2'])\n",
    "    second_layer = tf.nn.relu(second_layer)\n",
    "    \n",
    "    output_layer = tf.add(tf.matmul(second_layer, weights['out']), biases['out'])\n",
    "    \n",
    "    return output_layer"
   ]
  },
  {
   "cell_type": "code",
   "execution_count": 8,
   "metadata": {},
   "outputs": [],
   "source": [
    "# Célula para definição da função de custo\n",
    "y_ = NN(x)\n",
    "prediction = tf.nn.softmax(NN(x))\n",
    "\n",
    "loss_op = tf.reduce_mean(tf.nn.softmax_cross_entropy_with_logits(logits=y_, labels=y))\n",
    "optimizer = tf.train.AdamOptimizer(learning_rate=learning_rate).minimize(loss_op)\n",
    "\n",
    "# Validação do modelo\n",
    "correct_pred = tf.equal(tf.argmax(prediction, 1), tf.argmax(y, 1))\n",
    "accuracy = tf.reduce_mean(tf.cast(correct_pred, tf.float32))"
   ]
  },
  {
   "cell_type": "code",
   "execution_count": 9,
   "metadata": {},
   "outputs": [],
   "source": [
    "# Inicialização das variáveis do tensorflow\n",
    "start = tf.global_variables_initializer()"
   ]
  },
  {
   "cell_type": "code",
   "execution_count": 10,
   "metadata": {},
   "outputs": [
    {
     "name": "stdout",
     "output_type": "stream",
     "text": [
      "Epoch: 1 acc = 0.914\n",
      "Epoch: 2 acc = 0.961\n",
      "Epoch: 3 acc = 0.930\n",
      "Epoch: 4 acc = 0.977\n",
      "Epoch: 5 acc = 0.977\n",
      "Epoch: 6 acc = 0.961\n",
      "Epoch: 7 acc = 0.984\n",
      "Epoch: 8 acc = 1.000\n",
      "Epoch: 9 acc = 0.984\n",
      "Epoch: 10 acc = 1.000\n",
      "Optimization Finished!\n",
      "Testing Accuracy: 0.9485\n"
     ]
    }
   ],
   "source": [
    "# Execução do modelo\n",
    "with tf.Session() as sess:\n",
    "    sess.run(start)\n",
    "\n",
    "    for epoch in range(epochs):\n",
    "        for step in range(1, 200):\n",
    "            batch_x, batch_y = training_set.next_batch(batch_size)\n",
    "\n",
    "            sess.run(optimizer, feed_dict={x: batch_x, y: batch_y})\n",
    "            if step % 100 == 0 or step == 1:\n",
    "                loss, acc = sess.run([loss_op, accuracy], feed_dict={x: batch_x,\n",
    "                                                                     y: batch_y})\n",
    "                \n",
    "        print(\"Epoch:\", (epoch + 1), \"acc =\", \"{:.3f}\".format(acc))\n",
    "    \n",
    "    print(\"Optimization Finished!\")\n",
    "        \n",
    "    print(\"Testing Accuracy:\", \\\n",
    "        sess.run(accuracy, feed_dict={x: x_test,\n",
    "                                      y: y_test}))"
   ]
  },
  {
   "cell_type": "code",
   "execution_count": 11,
   "metadata": {},
   "outputs": [],
   "source": [
    "# Resetando o grafo de execução do Tensorflow para construção da CNN\n",
    "tf.reset_default_graph()"
   ]
  },
  {
   "cell_type": "code",
   "execution_count": 12,
   "metadata": {},
   "outputs": [],
   "source": [
    "dropout = 0.75 # Valor de dropout"
   ]
  },
  {
   "cell_type": "code",
   "execution_count": 13,
   "metadata": {},
   "outputs": [],
   "source": [
    "x = tf.placeholder(tf.float32, [None, n_input])\n",
    "y = tf.placeholder(tf.float32, [None, n_output])\n",
    "keep_prob = tf.placeholder(tf.float32) # dropout (keep probability)"
   ]
  },
  {
   "cell_type": "code",
   "execution_count": 14,
   "metadata": {},
   "outputs": [],
   "source": [
    "weights = {\n",
    "    # 5x5 conv, 1 input, 32 outputs\n",
    "    'wc1': tf.Variable(tf.random_normal([5, 5, 1, 32])),\n",
    "    # 5x5 conv, 32 inputs, 64 outputs\n",
    "    'wc2': tf.Variable(tf.random_normal([5, 5, 32, 64])),\n",
    "    # fully connected, 7*7*64 inputs, 1024 outputs\n",
    "    'wd1': tf.Variable(tf.random_normal([7*7*64, 1024])),\n",
    "    # 1024 inputs, 10 outputs (class prediction)\n",
    "    'out': tf.Variable(tf.random_normal([1024, n_output]))\n",
    "}\n",
    "\n",
    "biases = {\n",
    "    'bc1': tf.Variable(tf.random_normal([32])),\n",
    "    'bc2': tf.Variable(tf.random_normal([64])),\n",
    "    'bd1': tf.Variable(tf.random_normal([1024])),\n",
    "    'out': tf.Variable(tf.random_normal([n_output]))\n",
    "}"
   ]
  },
  {
   "cell_type": "code",
   "execution_count": null,
   "metadata": {},
   "outputs": [],
   "source": []
  },
  {
   "cell_type": "code",
   "execution_count": 15,
   "metadata": {},
   "outputs": [],
   "source": [
    "# Camada de convolução do modelo\n",
    "def conv2d(x, W, b, strides=1):\n",
    "    x = tf.nn.conv2d(x, W, strides=[1, strides, strides, 1], padding='SAME')\n",
    "    x = tf.nn.bias_add(x, b)\n",
    "    \n",
    "    return tf.nn.relu(x)"
   ]
  },
  {
   "cell_type": "code",
   "execution_count": 16,
   "metadata": {},
   "outputs": [],
   "source": [
    "# Camada de pooling\n",
    "def maxpool2d(x, k=2):\n",
    "    return tf.nn.max_pool(x, ksize=[1, k, k, 1], strides=[1, k, k, 1],\n",
    "                          padding='SAME')"
   ]
  },
  {
   "cell_type": "code",
   "execution_count": 17,
   "metadata": {},
   "outputs": [],
   "source": [
    "# Criação do modelo\n",
    "def conv_net(x, weights, biases, dropout):\n",
    "    x = tf.reshape(x, shape=[-1, 28, 28, 1])\n",
    "\n",
    "    conv1 = conv2d(x, weights['wc1'], biases['bc1'])\n",
    "    conv1 = maxpool2d(conv1, k=2)\n",
    "\n",
    "    conv2 = conv2d(conv1, weights['wc2'], biases['bc2'])\n",
    "    conv2 = maxpool2d(conv2, k=2)\n",
    "\n",
    "    fc1 = tf.reshape(conv2, [-1, weights['wd1'].get_shape().as_list()[0]])\n",
    "    fc1 = tf.add(tf.matmul(fc1, weights['wd1']), biases['bd1'])\n",
    "    fc1 = tf.nn.relu(fc1)\n",
    "\n",
    "    fc1 = tf.nn.dropout(fc1, dropout)\n",
    "\n",
    "    out = tf.add(tf.matmul(fc1, weights['out']), biases['out'])\n",
    "    \n",
    "    return out"
   ]
  },
  {
   "cell_type": "code",
   "execution_count": 18,
   "metadata": {},
   "outputs": [],
   "source": [
    "# Construção do modelo\n",
    "logits = conv_net(x, weights, biases, keep_prob)\n",
    "prediction = tf.nn.softmax(logits)"
   ]
  },
  {
   "cell_type": "code",
   "execution_count": 19,
   "metadata": {},
   "outputs": [],
   "source": [
    "loss_op = tf.reduce_mean(tf.nn.softmax_cross_entropy_with_logits(logits=logits, labels=y))\n",
    "optimizer = tf.train.AdamOptimizer(learning_rate=learning_rate).minimize(loss_op)\n",
    "\n",
    "# Evaluate model\n",
    "correct_pred = tf.equal(tf.argmax(prediction, 1), tf.argmax(y, 1))\n",
    "accuracy = tf.reduce_mean(tf.cast(correct_pred, tf.float32))"
   ]
  },
  {
   "cell_type": "code",
   "execution_count": 20,
   "metadata": {},
   "outputs": [],
   "source": [
    "init = tf.global_variables_initializer()"
   ]
  },
  {
   "cell_type": "code",
   "execution_count": 21,
   "metadata": {},
   "outputs": [
    {
     "name": "stdout",
     "output_type": "stream",
     "text": [
      "Epoch: 1 acc = 0.898\n",
      "Epoch: 2 acc = 0.922\n",
      "Epoch: 3 acc = 0.930\n",
      "Epoch: 4 acc = 0.977\n",
      "Epoch: 5 acc = 0.969\n",
      "Epoch: 6 acc = 0.961\n",
      "Epoch: 7 acc = 0.984\n",
      "Epoch: 8 acc = 0.977\n",
      "Epoch: 9 acc = 0.992\n",
      "Epoch: 10 acc = 0.992\n",
      "Optimization Finished!\n",
      "Testing Accuracy: 0.971\n"
     ]
    }
   ],
   "source": [
    "with tf.Session() as sess:\n",
    "\n",
    "    sess.run(init)\n",
    "\n",
    "    for epoch in range(epochs):\n",
    "        for step in range(1, 200):\n",
    "            batch_x, batch_y = training_set.next_batch(batch_size)\n",
    "\n",
    "            sess.run(optimizer, feed_dict={x: batch_x, y: batch_y, keep_prob: 0.8})\n",
    "            \n",
    "            if step % 100 == 0 or step == 1:\n",
    "                loss, acc = sess.run([loss_op, accuracy], feed_dict={x: batch_x,\n",
    "                                                                     y: batch_y,\n",
    "                                                                     keep_prob: 1.0})\n",
    "        \n",
    "        print(\"Epoch:\", (epoch + 1), \"acc =\", \"{:.3f}\".format(acc))\n",
    "    \n",
    "    print(\"Optimization Finished!\")\n",
    "\n",
    "    print(\"Testing Accuracy:\", \\\n",
    "        sess.run(accuracy, feed_dict={x: x_test[:1000],\n",
    "                                      y: y_test[:1000],\n",
    "                                      keep_prob: 1.0}))"
   ]
  },
  {
   "cell_type": "code",
   "execution_count": null,
   "metadata": {},
   "outputs": [],
   "source": []
  }
 ],
 "metadata": {
  "kernelspec": {
   "display_name": "Python 3",
   "language": "python",
   "name": "python3"
  },
  "language_info": {
   "codemirror_mode": {
    "name": "ipython",
    "version": 3
   },
   "file_extension": ".py",
   "mimetype": "text/x-python",
   "name": "python",
   "nbconvert_exporter": "python",
   "pygments_lexer": "ipython3",
   "version": "3.6.7"
  }
 },
 "nbformat": 4,
 "nbformat_minor": 2
}
