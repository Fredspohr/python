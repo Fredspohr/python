{
 "cells": [
  {
   "cell_type": "code",
   "execution_count": 225,
   "metadata": {},
   "outputs": [],
   "source": [
    "class knn:\n",
    "    dados = []\n",
    "    labels = []\n",
    "    classes = []\n",
    "  \n",
    "    def __init__(self, **args):\n",
    "\n",
    "        self.k = 3\n",
    "        \n",
    "        if 'k' in args:\n",
    "            self.k = args['k']\n",
    "        \n",
    "#         if 'dados' in args:\n",
    "#             self.dados = args['dados']            \n",
    "#         else:\n",
    "#             raise Exception('Os dados devem ser informados!')            \n",
    "        \n",
    "#         if 'labels' in args:\n",
    "#             self.labels = args['labels']\n",
    "#             self.classes = self.achar_classes(self.labels)\n",
    "#         else:\n",
    "#             raise Exception('Os labels devem ser informados!')\n",
    "            \n",
    "\n",
    "    def calculo_de(self, v1, v2):\n",
    "        if(len(v1) != len(v2)):\n",
    "            raise Exception('O Tamanho dos vetores devem ser iguais')\n",
    "        soma = 0\n",
    "        for i in range(len(v1)):\n",
    "            soma += pow(float(v2[i]) - float(v1[i]), 2)\n",
    "        return pow(soma, 0.5)\n",
    "    \n",
    "    def calcular_distancias(self, matriz, classes, vetor):    \n",
    "        distancias = []\n",
    "        for i in range(len(matriz)):\n",
    "            distancias.append([self.calculo_de(matriz[i], vetor),classes[i]])\n",
    "        return distancias\n",
    "\n",
    "    def achar_classes(self, labels):\n",
    "        classes = set()\n",
    "        for label in labels:\n",
    "            classes.add(label)\n",
    "        return classes\n",
    "\n",
    "    def predict(self, matriz):\n",
    "        labels = []\n",
    "        for linha in matriz:        \n",
    "            distancias_linha = self.calcular_distancias(self.dados, self.labels , linha)            \n",
    "            labels.append(self.contar_classes(distancias_linha))            \n",
    "        return labels\n",
    "    \n",
    "    def montar_mapa_classes(self, kdistancias):\n",
    "        mapa = {}\n",
    "        for linha in kdistancias:\n",
    "            if linha[1] in mapa:\n",
    "                mapa[linha[1]] += 1\n",
    "            else:\n",
    "                mapa.update({linha[1]:1})   \n",
    "        return mapa\n",
    "    \n",
    "    def fit(self,X, y):\n",
    "        \n",
    "        self.dados = X\n",
    "        self.labels = y       \n",
    "        return self\n",
    "    \n",
    "    def score(self, X, y=None):        \n",
    "        return(1)\n",
    "    \n",
    "    def get_params(self, deep = False):\n",
    "        return {'k':self.k}\n",
    "       \n",
    "    \n",
    "    def contar_classes(self, distancias):        \n",
    "        distancias.sort()\n",
    "        mapa = self.montar_mapa_classes(distancias[:self.k])           \n",
    "        s = [(k, mapa[k]) for k in sorted(mapa, key = mapa.get, reverse=True)]        \n",
    "        return s[0][0]"
   ]
  },
  {
   "cell_type": "code",
   "execution_count": 226,
   "metadata": {},
   "outputs": [],
   "source": [
    "import csv\n",
    "dados=[]\n",
    "target=[]\n",
    "\n",
    "with open('iris.data', 'r') as csv_file:\n",
    "    csv_reader = csv.reader(csv_file)\n",
    "    cabecalho = next(csv_reader)\n",
    "    for line in csv_reader:\n",
    "        if len(line) != 0:        \n",
    "            dados.append(line[0:4])\n",
    "            target.append(line[4])\n",
    "        \n",
    "\n",
    "from sklearn.datasets import load_iris\n",
    "from sklearn.model_selection import train_test_split\n",
    "iris = load_iris()\n",
    "X_train, x_test, y_train, y_test = train_test_split(dados, target, test_size = 0.25, random_state = 42)\n"
   ]
  },
  {
   "cell_type": "code",
   "execution_count": 227,
   "metadata": {},
   "outputs": [],
   "source": [
    "#  modelo = knn(k= 3, dados = X_train, labels = y_train)\n",
    "modelo = knn(k= 3)\n",
    "modelo.fit(X_train, y_train)\n",
    "\n",
    "predict = modelo.predict(x_test)\n",
    "\n",
    "\n"
   ]
  },
  {
   "cell_type": "code",
   "execution_count": 235,
   "metadata": {},
   "outputs": [
    {
     "name": "stdout",
     "output_type": "stream",
     "text": [
      "[[15  0  0]\n",
      " [ 0  9  2]\n",
      " [ 0  1 11]]\n",
      "0.9210526315789473\n",
      "0.9466666666666667\n"
     ]
    }
   ],
   "source": [
    "from sklearn import metrics\n",
    "from sklearn.model_selection import cross_val_score\n",
    "\n",
    "#     print(metrics.classification_report(y_test, predict_teste, target_names=labels))\n",
    "print(metrics.confusion_matrix(y_test, predict))\n",
    "print(metrics.accuracy_score(y_test,predict))\n",
    "score = cross_val_score(modelo, dados, target, cv=10,  scoring = 'accuracy')\n",
    "print(score.mean())\n",
    "\n",
    "\n",
    "# metrics."
   ]
  },
  {
   "cell_type": "code",
   "execution_count": null,
   "metadata": {},
   "outputs": [],
   "source": []
  },
  {
   "cell_type": "code",
   "execution_count": null,
   "metadata": {},
   "outputs": [],
   "source": []
  }
 ],
 "metadata": {
  "kernelspec": {
   "display_name": "Python 3",
   "language": "python",
   "name": "python3"
  },
  "language_info": {
   "codemirror_mode": {
    "name": "ipython",
    "version": 3
   },
   "file_extension": ".py",
   "mimetype": "text/x-python",
   "name": "python",
   "nbconvert_exporter": "python",
   "pygments_lexer": "ipython3",
   "version": "3.5.2"
  }
 },
 "nbformat": 4,
 "nbformat_minor": 2
}
