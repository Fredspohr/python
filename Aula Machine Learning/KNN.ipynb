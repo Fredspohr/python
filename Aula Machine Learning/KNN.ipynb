{
 "cells": [
  {
   "cell_type": "code",
   "execution_count": 2,
   "metadata": {},
   "outputs": [],
   "source": [
    "class knn:\n",
    "    dados = []\n",
    "    labels = []\n",
    "    classes = []\n",
    "  \n",
    "    def __init__(self, **args):\n",
    "\n",
    "        self.k = 3\n",
    "        \n",
    "        if 'k' in args:\n",
    "            self.k = args['k']       \n",
    "        \n",
    "    def calculo_de(self, v1, v2):\n",
    "        if(len(v1) != len(v2)):\n",
    "            raise Exception('O Tamanho dos vetores devem ser iguais')\n",
    "        soma = 0\n",
    "        for i in range(len(v1)):\n",
    "            soma += pow(float(v2[i]) - float(v1[i]), 2)\n",
    "        return pow(soma, 0.5)\n",
    "    \n",
    "    def calculo_x2(self, v1, v2):\n",
    "        if(len(v1) != len(v2)):\n",
    "            raise Exception('O Tamanho dos vetores devem ser iguais')\n",
    "       \n",
    "        soma = 0 \n",
    "        for i in range(len(v1)):\n",
    "            soma += (pow(float(v2[i]) - float(v1[i]), 2) / (float(v2[i]) + float(v1[i])))\n",
    "        return soma * 0.5\n",
    "    \n",
    "    def calcular_distancias(self, matriz, classes, vetor):    \n",
    "        distancias = []\n",
    "        for i in range(len(matriz)):\n",
    "            distancias.append([self.calculo_x2(matriz[i], vetor),classes[i]])\n",
    "        return distancias\n",
    "\n",
    "    def achar_classes(self, labels):\n",
    "        classes = set()\n",
    "        for label in labels:\n",
    "            classes.add(label)\n",
    "        return classes\n",
    "\n",
    "    def predict(self, matriz):\n",
    "        labels = []\n",
    "        for linha in matriz:        \n",
    "            distancias_linha = self.calcular_distancias(self.dados, self.labels , linha)            \n",
    "            labels.append(self.contar_classes(distancias_linha))            \n",
    "        return labels\n",
    "    \n",
    "    def montar_mapa_classes(self, kdistancias):\n",
    "        mapa = {}\n",
    "        for linha in kdistancias:\n",
    "            if linha[1] in mapa:\n",
    "                mapa[linha[1]] += 1\n",
    "            else:\n",
    "                mapa.update({linha[1]:1})   \n",
    "        return mapa\n",
    "    \n",
    "    def fit(self,X, y):        \n",
    "        self.dados = X\n",
    "        self.labels = y       \n",
    "        return self\n",
    "    \n",
    "    def score(self, X, y=None):\n",
    "        predito = self.predict(X)\n",
    "        acertos = 0\n",
    "        for y_teste, y_predito in zip( y, predito):\n",
    "            if y_teste == y_predito:\n",
    "                acertos += 1\n",
    "        return acertos / len(y)\n",
    "        \n",
    "    \n",
    "    def get_params(self, deep = False):\n",
    "        return {'k':self.k}\n",
    "       \n",
    "    \n",
    "    def contar_classes(self, distancias):        \n",
    "        distancias.sort()\n",
    "        mapa = self.montar_mapa_classes(distancias[:self.k])           \n",
    "        s = [(k, mapa[k]) for k in sorted(mapa, key = mapa.get, reverse=True)]        \n",
    "        return s[0][0]"
   ]
  },
  {
   "cell_type": "code",
   "execution_count": 3,
   "metadata": {},
   "outputs": [],
   "source": [
    "import csv\n",
    "from random import seed\n",
    "from random import randrange\n",
    "\n",
    "\n",
    "dados=[]\n",
    "target=[]\n",
    "\n",
    "with open('iris.data', 'r') as csv_file:\n",
    "    csv_reader = csv.reader(csv_file)\n",
    "#     cabecalho = next(csv_reader)\n",
    "    for line in csv_reader:\n",
    "        if len(line) != 0:        \n",
    "            dados.append(line[0:4])\n",
    "            target.append(line[4])\n",
    "\n",
    "\n",
    " \n",
    "def train_test_split(dataset, target, per_teste=0.60, semente = 50):\n",
    "    seed(semente)      \n",
    "    X_train = list(dataset)\n",
    "    x_test = list()\n",
    "    y_train = list(target)\n",
    "    y_test = list()\n",
    "    test_size = per_teste * len(dataset)   \n",
    "    \n",
    "    while len(x_test) < test_size:\n",
    "        index = randrange(len(X_train))\n",
    "        x_test .append(X_train.pop(index))\n",
    "        y_test.append(y_train.pop(index))    \n",
    "    \n",
    "    return X_train, x_test, y_train, y_test\n",
    "\n",
    "\n",
    "X_train, x_test, y_train, y_test = train_test_split(dados, target, per_teste = 0.40)\n",
    "\n"
   ]
  },
  {
   "cell_type": "code",
   "execution_count": 4,
   "metadata": {},
   "outputs": [
    {
     "data": {
      "text/plain": [
       "<__main__.knn at 0x7efc78338c18>"
      ]
     },
     "execution_count": 4,
     "metadata": {},
     "output_type": "execute_result"
    }
   ],
   "source": [
    "#  modelo = knn(k= 3, dados = X_train, labels = y_train)\n",
    "modelo = knn(k = 15)\n",
    "modelo.fit(X_train, y_train)\n",
    "\n"
   ]
  },
  {
   "cell_type": "code",
   "execution_count": 5,
   "metadata": {
    "scrolled": true
   },
   "outputs": [
    {
     "name": "stdout",
     "output_type": "stream",
     "text": [
      "                 precision    recall  f1-score   support\n",
      "\n",
      "    Iris-setosa       1.00      1.00      1.00        19\n",
      "Iris-versicolor       0.86      1.00      0.92        18\n",
      " Iris-virginica       1.00      0.87      0.93        23\n",
      "\n",
      "      micro avg       0.95      0.95      0.95        60\n",
      "      macro avg       0.95      0.96      0.95        60\n",
      "   weighted avg       0.96      0.95      0.95        60\n",
      "\n",
      "[[19  0  0]\n",
      " [ 0 18  0]\n",
      " [ 0  3 20]]\n",
      "0.95\n",
      "0.9533333333333334\n"
     ]
    }
   ],
   "source": [
    "from sklearn import metrics\n",
    "from sklearn.model_selection import cross_val_score\n",
    "\n",
    "predict = modelo.predict(x_test)\n",
    "\n",
    "print(metrics.classification_report(y_test, predict))\n",
    "print(metrics.confusion_matrix(y_test, predict))\n",
    "print(modelo.score(x_test,y_test))\n",
    "\n",
    "score = cross_val_score(modelo, dados, target, cv=10)\n",
    "print(score.mean())\n",
    "\n",
    "\n",
    "# metrics."
   ]
  },
  {
   "cell_type": "code",
   "execution_count": 6,
   "metadata": {},
   "outputs": [],
   "source": [
    "import seaborn as sb\n",
    "\n",
    "%matplotlib inline"
   ]
  },
  {
   "cell_type": "code",
   "execution_count": 7,
   "metadata": {},
   "outputs": [
    {
     "ename": "TypeError",
     "evalue": "'data' must be pandas DataFrame object, not: <class 'list'>",
     "output_type": "error",
     "traceback": [
      "\u001b[0;31m---------------------------------------------------------------------------\u001b[0m",
      "\u001b[0;31mTypeError\u001b[0m                                 Traceback (most recent call last)",
      "\u001b[0;32m<ipython-input-7-75c0f83b20a1>\u001b[0m in \u001b[0;36m<module>\u001b[0;34m\u001b[0m\n\u001b[0;32m----> 1\u001b[0;31m \u001b[0msb\u001b[0m\u001b[0;34m.\u001b[0m\u001b[0mpairplot\u001b[0m\u001b[0;34m(\u001b[0m\u001b[0mdados\u001b[0m\u001b[0;34m)\u001b[0m\u001b[0;34m\u001b[0m\u001b[0m\n\u001b[0m",
      "\u001b[0;32m~/.local/lib/python3.5/site-packages/seaborn/axisgrid.py\u001b[0m in \u001b[0;36mpairplot\u001b[0;34m(data, hue, hue_order, palette, vars, x_vars, y_vars, kind, diag_kind, markers, height, aspect, dropna, plot_kws, diag_kws, grid_kws, size)\u001b[0m\n\u001b[1;32m   2068\u001b[0m         raise TypeError(\n\u001b[1;32m   2069\u001b[0m             \"'data' must be pandas DataFrame object, not: {typefound}\".format(\n\u001b[0;32m-> 2070\u001b[0;31m                 typefound=type(data)))\n\u001b[0m\u001b[1;32m   2071\u001b[0m \u001b[0;34m\u001b[0m\u001b[0m\n\u001b[1;32m   2072\u001b[0m     \u001b[0;32mif\u001b[0m \u001b[0mplot_kws\u001b[0m \u001b[0;32mis\u001b[0m \u001b[0;32mNone\u001b[0m\u001b[0;34m:\u001b[0m\u001b[0;34m\u001b[0m\u001b[0m\n",
      "\u001b[0;31mTypeError\u001b[0m: 'data' must be pandas DataFrame object, not: <class 'list'>"
     ]
    }
   ],
   "source": [
    "sb.pairplot(dados)"
   ]
  },
  {
   "cell_type": "code",
   "execution_count": null,
   "metadata": {},
   "outputs": [],
   "source": []
  }
 ],
 "metadata": {
  "kernelspec": {
   "display_name": "Python 3",
   "language": "python",
   "name": "python3"
  },
  "language_info": {
   "codemirror_mode": {
    "name": "ipython",
    "version": 3
   },
   "file_extension": ".py",
   "mimetype": "text/x-python",
   "name": "python",
   "nbconvert_exporter": "python",
   "pygments_lexer": "ipython3",
   "version": "3.5.2"
  }
 },
 "nbformat": 4,
 "nbformat_minor": 2
}
