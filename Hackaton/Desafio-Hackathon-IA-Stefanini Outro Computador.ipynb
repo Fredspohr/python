{
 "cells": [
  {
   "cell_type": "markdown",
   "metadata": {},
   "source": [
    "# DinoBank\n",
    "\n",
    "### Desafio Stefanini - Hackathon de I.A\n",
    "\n",
    "Pesquisadores da Stefanini Research, uma equipe de pesquisadores secretos dentro da empresa Stefanini que atua para clientes especiais, e uma equipe da SNASA, o ‘S’ do nome significa secret e trata de uma equipe especial dentro da NASA que busca  explicar fenômenos que ainda deixam resquícios de dúvidas, juntos descobriram recentemente que alguns anos antes do meteoro atingir a Terra ele ficou girando em torno da órbita gerando um campo magnético que teve um efeito nos dinossauros dessa época tornando-os super inteligentes. \n",
    "A partir de então, predadores e presas parecem ter deixado de lado seus lados selvagens e começaram a produzir suas próprias tecnologias, uma dessas descobertas foi a Nuvem Jurássica, da onde até o momento o que se conseguiu recuperar foi uma página de um jornal chamado DinoNews onde falam a respeitos do fundador do maior banco daquela época. Aardonyx, fundador do DinoBank e da familia dos Troodontes, que eram considerados os dinossauros mais inteligentes da época, aparece falando sobre o desenvolvimento do que parece ser a primeira moeda digital do mundo, a DinoCoin, porém, parece que o volume de dados foi muito grande e começaram a ter problemas de clientes que não tinham retorno sobre seus investimentos, clientes que começaram a fraudar dados e gerar muita perda de dinheiro.\n",
    "Um dos outros relatos apresentados no DinoNews foi que o DinoBank também não sabia como oferecer empréstimos e produtos de seguros para os clientes, já que os dados não estão centralizados e tratados adequadamente.\n",
    "\n",
    "Junto à página do jornal foi encontrado também alguns arquivos CSVs que são os seguintes: coin.csv, dinos.csv, trade.csv e counts.csv.\n",
    "\n",
    "\tVocês foram escolhidos para ajudar a Stefanini e a SNASA para desenvolver ******* QUESTOES DA PROVA"
   ]
  },
  {
   "cell_type": "markdown",
   "metadata": {},
   "source": [
    "### Questão número 1\n",
    "\n",
    "Faça uma regressão, com as variações das cotações da moeda DinoCoin, onde possamos analisar as variações da cotação da moeda."
   ]
  },
  {
   "cell_type": "code",
   "execution_count": 164,
   "metadata": {},
   "outputs": [],
   "source": [
    "import pandas as pd\n",
    "import numpy as np\n",
    "from sklearn.linear_model import LinearRegression\n",
    "from sklearn.metrics import mean_squared_error\n",
    "from sklearn.model_selection import train_test_split, KFold, cross_validate\n",
    "from sklearn.pipeline import Pipeline\n",
    "from sklearn.preprocessing import Normalizer, StandardScaler\n",
    "import seaborn as sns"
   ]
  },
  {
   "cell_type": "code",
   "execution_count": 131,
   "metadata": {},
   "outputs": [
    {
     "data": {
      "text/html": [
       "<div>\n",
       "<style scoped>\n",
       "    .dataframe tbody tr th:only-of-type {\n",
       "        vertical-align: middle;\n",
       "    }\n",
       "\n",
       "    .dataframe tbody tr th {\n",
       "        vertical-align: top;\n",
       "    }\n",
       "\n",
       "    .dataframe thead th {\n",
       "        text-align: right;\n",
       "    }\n",
       "</style>\n",
       "<table border=\"1\" class=\"dataframe\">\n",
       "  <thead>\n",
       "    <tr style=\"text-align: right;\">\n",
       "      <th></th>\n",
       "      <th>Unnamed: 0</th>\n",
       "      <th>Open</th>\n",
       "      <th>High</th>\n",
       "      <th>Low</th>\n",
       "      <th>Last</th>\n",
       "      <th>Close</th>\n",
       "      <th>year</th>\n",
       "      <th>month</th>\n",
       "      <th>day</th>\n",
       "      <th>variacao</th>\n",
       "    </tr>\n",
       "  </thead>\n",
       "  <tbody>\n",
       "    <tr>\n",
       "      <th>0</th>\n",
       "      <td>0</td>\n",
       "      <td>210.60</td>\n",
       "      <td>214.90</td>\n",
       "      <td>210.00</td>\n",
       "      <td>213.50</td>\n",
       "      <td>213.80</td>\n",
       "      <td>1710</td>\n",
       "      <td>7</td>\n",
       "      <td>21</td>\n",
       "      <td>3.20</td>\n",
       "    </tr>\n",
       "    <tr>\n",
       "      <th>1</th>\n",
       "      <td>1</td>\n",
       "      <td>214.95</td>\n",
       "      <td>215.35</td>\n",
       "      <td>209.90</td>\n",
       "      <td>210.55</td>\n",
       "      <td>210.05</td>\n",
       "      <td>1710</td>\n",
       "      <td>7</td>\n",
       "      <td>22</td>\n",
       "      <td>-4.90</td>\n",
       "    </tr>\n",
       "    <tr>\n",
       "      <th>2</th>\n",
       "      <td>2</td>\n",
       "      <td>219.00</td>\n",
       "      <td>220.35</td>\n",
       "      <td>213.60</td>\n",
       "      <td>214.20</td>\n",
       "      <td>214.60</td>\n",
       "      <td>1710</td>\n",
       "      <td>7</td>\n",
       "      <td>23</td>\n",
       "      <td>-4.40</td>\n",
       "    </tr>\n",
       "    <tr>\n",
       "      <th>3</th>\n",
       "      <td>3</td>\n",
       "      <td>219.95</td>\n",
       "      <td>221.05</td>\n",
       "      <td>218.05</td>\n",
       "      <td>218.95</td>\n",
       "      <td>219.10</td>\n",
       "      <td>1710</td>\n",
       "      <td>7</td>\n",
       "      <td>26</td>\n",
       "      <td>-0.85</td>\n",
       "    </tr>\n",
       "    <tr>\n",
       "      <th>4</th>\n",
       "      <td>4</td>\n",
       "      <td>222.00</td>\n",
       "      <td>223.65</td>\n",
       "      <td>218.85</td>\n",
       "      <td>219.55</td>\n",
       "      <td>219.40</td>\n",
       "      <td>1710</td>\n",
       "      <td>7</td>\n",
       "      <td>27</td>\n",
       "      <td>-2.60</td>\n",
       "    </tr>\n",
       "  </tbody>\n",
       "</table>\n",
       "</div>"
      ],
      "text/plain": [
       "   Unnamed: 0    Open    High     Low    Last   Close  year  month  day  \\\n",
       "0           0  210.60  214.90  210.00  213.50  213.80  1710      7   21   \n",
       "1           1  214.95  215.35  209.90  210.55  210.05  1710      7   22   \n",
       "2           2  219.00  220.35  213.60  214.20  214.60  1710      7   23   \n",
       "3           3  219.95  221.05  218.05  218.95  219.10  1710      7   26   \n",
       "4           4  222.00  223.65  218.85  219.55  219.40  1710      7   27   \n",
       "\n",
       "   variacao  \n",
       "0      3.20  \n",
       "1     -4.90  \n",
       "2     -4.40  \n",
       "3     -0.85  \n",
       "4     -2.60  "
      ]
     },
     "execution_count": 131,
     "metadata": {},
     "output_type": "execute_result"
    }
   ],
   "source": [
    "df = pd.read_csv('trade_model.csv')\n",
    "df.head()"
   ]
  },
  {
   "cell_type": "code",
   "execution_count": 145,
   "metadata": {},
   "outputs": [
    {
     "name": "stderr",
     "output_type": "stream",
     "text": [
      "C:\\Users\\gmnogueira\\AppData\\Local\\conda\\conda\\envs\\hackathon\\lib\\site-packages\\scipy\\stats\\stats.py:1713: FutureWarning: Using a non-tuple sequence for multidimensional indexing is deprecated; use `arr[tuple(seq)]` instead of `arr[seq]`. In the future this will be interpreted as an array index, `arr[np.array(seq)]`, which will result either in an error or a different result.\n",
      "  return np.add.reduce(sorted[indexer] * weights, axis=axis) / sumval\n"
     ]
    },
    {
     "data": {
      "text/plain": [
       "<matplotlib.axes._subplots.AxesSubplot at 0x1f973668e80>"
      ]
     },
     "execution_count": 145,
     "metadata": {},
     "output_type": "execute_result"
    },
    {
     "data": {
      "image/png": "[encoded data removed]",
      "text/plain": [
       "<Figure size 432x288 with 1 Axes>"
      ]
     },
     "metadata": {
      "needs_background": "light"
     },
     "output_type": "display_data"
    }
   ],
   "source": [
    "sns.lineplot(x='year', y='variacao', data=df)"
   ]
  },
  {
   "cell_type": "code",
   "execution_count": 132,
   "metadata": {
    "scrolled": true
   },
   "outputs": [],
   "source": [
    "df = df.drop(columns=['Unnamed: 0', 'Open', 'High', 'Low', 'Last', 'Close'], axis=1)"
   ]
  },
  {
   "cell_type": "code",
   "execution_count": 135,
   "metadata": {},
   "outputs": [
    {
     "data": {
      "text/html": [
       "<div>\n",
       "<style scoped>\n",
       "    .dataframe tbody tr th:only-of-type {\n",
       "        vertical-align: middle;\n",
       "    }\n",
       "\n",
       "    .dataframe tbody tr th {\n",
       "        vertical-align: top;\n",
       "    }\n",
       "\n",
       "    .dataframe thead th {\n",
       "        text-align: right;\n",
       "    }\n",
       "</style>\n",
       "<table border=\"1\" class=\"dataframe\">\n",
       "  <thead>\n",
       "    <tr style=\"text-align: right;\">\n",
       "      <th></th>\n",
       "      <th>year</th>\n",
       "      <th>month</th>\n",
       "      <th>day</th>\n",
       "      <th>variacao</th>\n",
       "    </tr>\n",
       "  </thead>\n",
       "  <tbody>\n",
       "    <tr>\n",
       "      <th>0</th>\n",
       "      <td>1710</td>\n",
       "      <td>7</td>\n",
       "      <td>21</td>\n",
       "      <td>3.20</td>\n",
       "    </tr>\n",
       "    <tr>\n",
       "      <th>1</th>\n",
       "      <td>1710</td>\n",
       "      <td>7</td>\n",
       "      <td>22</td>\n",
       "      <td>-4.90</td>\n",
       "    </tr>\n",
       "    <tr>\n",
       "      <th>2</th>\n",
       "      <td>1710</td>\n",
       "      <td>7</td>\n",
       "      <td>23</td>\n",
       "      <td>-4.40</td>\n",
       "    </tr>\n",
       "    <tr>\n",
       "      <th>3</th>\n",
       "      <td>1710</td>\n",
       "      <td>7</td>\n",
       "      <td>26</td>\n",
       "      <td>-0.85</td>\n",
       "    </tr>\n",
       "    <tr>\n",
       "      <th>4</th>\n",
       "      <td>1710</td>\n",
       "      <td>7</td>\n",
       "      <td>27</td>\n",
       "      <td>-2.60</td>\n",
       "    </tr>\n",
       "  </tbody>\n",
       "</table>\n",
       "</div>"
      ],
      "text/plain": [
       "   year  month  day  variacao\n",
       "0  1710      7   21      3.20\n",
       "1  1710      7   22     -4.90\n",
       "2  1710      7   23     -4.40\n",
       "3  1710      7   26     -0.85\n",
       "4  1710      7   27     -2.60"
      ]
     },
     "execution_count": 135,
     "metadata": {},
     "output_type": "execute_result"
    }
   ],
   "source": [
    "df.head()"
   ]
  },
  {
   "cell_type": "code",
   "execution_count": 136,
   "metadata": {},
   "outputs": [],
   "source": [
    "X = df.drop('variacao', axis=1)\n",
    "y = df['variacao']\n",
    "\n",
    "X_train, X_test, y_train, y_test = train_test_split(X, y, test_size=0.3)"
   ]
  },
  {
   "cell_type": "code",
   "execution_count": 137,
   "metadata": {},
   "outputs": [
    {
     "name": "stdout",
     "output_type": "stream",
     "text": [
      "(1470, 3) (1470,)\n"
     ]
    }
   ],
   "source": [
    "print(\n",
    "    X_train.shape,\n",
    "    y_train.shape\n",
    ")"
   ]
  },
  {
   "cell_type": "code",
   "execution_count": 138,
   "metadata": {},
   "outputs": [
    {
     "name": "stdout",
     "output_type": "stream",
     "text": [
      "Score train:  0.003742650853774232\n",
      "Score test:  0.0016545393136474518\n",
      "best score possible is 1.0\n",
      "Mean squared Error:  11.027870101022286\n",
      "Best mse possible is 0\n"
     ]
    }
   ],
   "source": [
    "pipeline = Pipeline([\n",
    "    ('normalizer', Normalizer()),\n",
    "    ('regression', LinearRegression())\n",
    "])\n",
    "\n",
    "pipeline.fit(X_train, y_train)\n",
    "print(\"Score train: \", pipeline.score(X_train, y_train))\n",
    "print(\"Score test: \", pipeline.score(X_test, y_test))\n",
    "print('best score possible is 1.0')\n",
    "predicted = pipeline.predict(X_test)\n",
    "print(\"Mean squared Error: \", mean_squared_error(y_test, predicted))\n",
    "print(\"Best mse possible is 0\")"
   ]
  },
  {
   "cell_type": "code",
   "execution_count": 139,
   "metadata": {},
   "outputs": [],
   "source": [
    "class Regressor():\n",
    "    def __init__(self, X_train, y_train):\n",
    "        \n",
    "        self.pipeline = Pipeline([\n",
    "        ('normalizer', Normalizer()),\n",
    "        ('regression', LinearRegression())\n",
    "    ])\n",
    "\n",
    "        self.pipeline.fit(X_train, y_train)\n",
    "\n",
    "    def predict(self, year, month, day):\n",
    "        \"\"\"\n",
    "        recebe um ano, um mes e um dia para retornar a variação\n",
    "        da bolsa nesse momento\n",
    "        \"\"\"\n",
    "        \n",
    "        return self.pipeline.predict(np.array([[year, month, day]]))"
   ]
  },
  {
   "cell_type": "code",
   "execution_count": 140,
   "metadata": {},
   "outputs": [
    {
     "data": {
      "text/plain": [
       "array([-0.07239724])"
      ]
     },
     "execution_count": 140,
     "metadata": {},
     "output_type": "execute_result"
    }
   ],
   "source": [
    "r = Regressor(X_train, y_train)\n",
    "r.predict(1711, 10, 7)"
   ]
  },
  {
   "cell_type": "markdown",
   "metadata": {},
   "source": [
    "### Faça uma avaliação\n",
    "\n",
    "Explica o que foi utilizado na primeira questão (Métodos que foram utilizados e o motivo de ter escolhido essa abordagem):\n",
    "\n",
    "\n",
    "\n",
    "### Justificativa e Discussão:\n",
    "\n",
    "Na primeira versão foi utilizado a Regressão linear clássica. Com o uso de normalização dos dados numericos. Essa normalização foi feita para que o modelo não ficasse influenciado pela grandeza numérica, e discrepante, do ano para com os meses e dias. Foram utilizados somente ano, mês e dia pois em uma previsão do futuro foi assumido que o usuário disporia de informações do dia da previsão desejada, sendo outras informações como Open, Close e Last indeterminadas.\n",
    "\n",
    "Adicionalmente, foi calculado o [Mean Square Error](https://scikit-learn.org/stable/modules/generated/sklearn.metrics.mean_squared_error.html#sklearn.metrics.mean_squared_error), e o [Score](https://scikit-learn.org/stable/modules/generated/sklearn.linear_model.LinearRegression.html#sklearn.linear_model.LinearRegression) para determinar o quão bom o modelo é.\n",
    "\n",
    "O modelo foi treinado para indicar os valores de variação (Close - Open), dado um ano, mês e o dia de uma cotação qualquer. Para a solução desse modelo específico foram utilizadas 3 features de data, o que pode não ser ideal para criar um modelo generalizado perfeito, e por isso obtivemos um MSE aproximadamente de 10, e um score próximo a 0."
   ]
  },
  {
   "cell_type": "markdown",
   "metadata": {},
   "source": [
    "### Questão número 2\n",
    "\n",
    "Faça um modelo para predizer qual título poderá ser rentável daqui alguns minutos, a partir do trade.csv. Deve ser feito a explicação da metodologia com gráficos e explicar o motivo da escolha do modelo. Lembre-se que você precisa comprovar matematicamente a eficácia de seu modelo."
   ]
  },
  {
   "cell_type": "code",
   "execution_count": 149,
   "metadata": {},
   "outputs": [
    {
     "data": {
      "text/html": [
       "<div>\n",
       "<style scoped>\n",
       "    .dataframe tbody tr th:only-of-type {\n",
       "        vertical-align: middle;\n",
       "    }\n",
       "\n",
       "    .dataframe tbody tr th {\n",
       "        vertical-align: top;\n",
       "    }\n",
       "\n",
       "    .dataframe thead th {\n",
       "        text-align: right;\n",
       "    }\n",
       "</style>\n",
       "<table border=\"1\" class=\"dataframe\">\n",
       "  <thead>\n",
       "    <tr style=\"text-align: right;\">\n",
       "      <th></th>\n",
       "      <th>Unnamed: 0</th>\n",
       "      <th>Open</th>\n",
       "      <th>High</th>\n",
       "      <th>Low</th>\n",
       "      <th>Last</th>\n",
       "      <th>Close</th>\n",
       "      <th>year</th>\n",
       "      <th>month</th>\n",
       "      <th>day</th>\n",
       "      <th>variacao</th>\n",
       "    </tr>\n",
       "  </thead>\n",
       "  <tbody>\n",
       "    <tr>\n",
       "      <th>0</th>\n",
       "      <td>0</td>\n",
       "      <td>210.60</td>\n",
       "      <td>214.90</td>\n",
       "      <td>210.00</td>\n",
       "      <td>213.50</td>\n",
       "      <td>213.80</td>\n",
       "      <td>1710</td>\n",
       "      <td>7</td>\n",
       "      <td>21</td>\n",
       "      <td>3.20</td>\n",
       "    </tr>\n",
       "    <tr>\n",
       "      <th>1</th>\n",
       "      <td>1</td>\n",
       "      <td>214.95</td>\n",
       "      <td>215.35</td>\n",
       "      <td>209.90</td>\n",
       "      <td>210.55</td>\n",
       "      <td>210.05</td>\n",
       "      <td>1710</td>\n",
       "      <td>7</td>\n",
       "      <td>22</td>\n",
       "      <td>-4.90</td>\n",
       "    </tr>\n",
       "    <tr>\n",
       "      <th>2</th>\n",
       "      <td>2</td>\n",
       "      <td>219.00</td>\n",
       "      <td>220.35</td>\n",
       "      <td>213.60</td>\n",
       "      <td>214.20</td>\n",
       "      <td>214.60</td>\n",
       "      <td>1710</td>\n",
       "      <td>7</td>\n",
       "      <td>23</td>\n",
       "      <td>-4.40</td>\n",
       "    </tr>\n",
       "    <tr>\n",
       "      <th>3</th>\n",
       "      <td>3</td>\n",
       "      <td>219.95</td>\n",
       "      <td>221.05</td>\n",
       "      <td>218.05</td>\n",
       "      <td>218.95</td>\n",
       "      <td>219.10</td>\n",
       "      <td>1710</td>\n",
       "      <td>7</td>\n",
       "      <td>26</td>\n",
       "      <td>-0.85</td>\n",
       "    </tr>\n",
       "    <tr>\n",
       "      <th>4</th>\n",
       "      <td>4</td>\n",
       "      <td>222.00</td>\n",
       "      <td>223.65</td>\n",
       "      <td>218.85</td>\n",
       "      <td>219.55</td>\n",
       "      <td>219.40</td>\n",
       "      <td>1710</td>\n",
       "      <td>7</td>\n",
       "      <td>27</td>\n",
       "      <td>-2.60</td>\n",
       "    </tr>\n",
       "  </tbody>\n",
       "</table>\n",
       "</div>"
      ],
      "text/plain": [
       "   Unnamed: 0    Open    High     Low    Last   Close  year  month  day  \\\n",
       "0           0  210.60  214.90  210.00  213.50  213.80  1710      7   21   \n",
       "1           1  214.95  215.35  209.90  210.55  210.05  1710      7   22   \n",
       "2           2  219.00  220.35  213.60  214.20  214.60  1710      7   23   \n",
       "3           3  219.95  221.05  218.05  218.95  219.10  1710      7   26   \n",
       "4           4  222.00  223.65  218.85  219.55  219.40  1710      7   27   \n",
       "\n",
       "   variacao  \n",
       "0      3.20  \n",
       "1     -4.90  \n",
       "2     -4.40  \n",
       "3     -0.85  \n",
       "4     -2.60  "
      ]
     },
     "execution_count": 149,
     "metadata": {},
     "output_type": "execute_result"
    }
   ],
   "source": [
    "df = pd.read_csv('trade_model.csv')\n",
    "df.head()"
   ]
  },
  {
   "cell_type": "code",
   "execution_count": 150,
   "metadata": {},
   "outputs": [],
   "source": [
    "df.drop(columns=['Unnamed: 0', 'High', 'Low', 'variacao'], axis=1, inplace=True)"
   ]
  },
  {
   "cell_type": "code",
   "execution_count": 151,
   "metadata": {},
   "outputs": [],
   "source": [
    "X = df.drop('Close', axis=1)\n",
    "y = df['Close']\n",
    "\n",
    "X_train, X_test, y_train, y_test = train_test_split(X, y, test_size=0.3)"
   ]
  },
  {
   "cell_type": "code",
   "execution_count": 165,
   "metadata": {},
   "outputs": [
    {
     "data": {
      "text/html": [
       "<div>\n",
       "<style scoped>\n",
       "    .dataframe tbody tr th:only-of-type {\n",
       "        vertical-align: middle;\n",
       "    }\n",
       "\n",
       "    .dataframe tbody tr th {\n",
       "        vertical-align: top;\n",
       "    }\n",
       "\n",
       "    .dataframe thead th {\n",
       "        text-align: right;\n",
       "    }\n",
       "</style>\n",
       "<table border=\"1\" class=\"dataframe\">\n",
       "  <thead>\n",
       "    <tr style=\"text-align: right;\">\n",
       "      <th></th>\n",
       "      <th>Open</th>\n",
       "      <th>Last</th>\n",
       "      <th>Close</th>\n",
       "      <th>year</th>\n",
       "      <th>month</th>\n",
       "      <th>day</th>\n",
       "    </tr>\n",
       "  </thead>\n",
       "  <tbody>\n",
       "    <tr>\n",
       "      <th>0</th>\n",
       "      <td>210.60</td>\n",
       "      <td>213.50</td>\n",
       "      <td>213.80</td>\n",
       "      <td>1710</td>\n",
       "      <td>7</td>\n",
       "      <td>21</td>\n",
       "    </tr>\n",
       "    <tr>\n",
       "      <th>1</th>\n",
       "      <td>214.95</td>\n",
       "      <td>210.55</td>\n",
       "      <td>210.05</td>\n",
       "      <td>1710</td>\n",
       "      <td>7</td>\n",
       "      <td>22</td>\n",
       "    </tr>\n",
       "    <tr>\n",
       "      <th>2</th>\n",
       "      <td>219.00</td>\n",
       "      <td>214.20</td>\n",
       "      <td>214.60</td>\n",
       "      <td>1710</td>\n",
       "      <td>7</td>\n",
       "      <td>23</td>\n",
       "    </tr>\n",
       "    <tr>\n",
       "      <th>3</th>\n",
       "      <td>219.95</td>\n",
       "      <td>218.95</td>\n",
       "      <td>219.10</td>\n",
       "      <td>1710</td>\n",
       "      <td>7</td>\n",
       "      <td>26</td>\n",
       "    </tr>\n",
       "    <tr>\n",
       "      <th>4</th>\n",
       "      <td>222.00</td>\n",
       "      <td>219.55</td>\n",
       "      <td>219.40</td>\n",
       "      <td>1710</td>\n",
       "      <td>7</td>\n",
       "      <td>27</td>\n",
       "    </tr>\n",
       "  </tbody>\n",
       "</table>\n",
       "</div>"
      ],
      "text/plain": [
       "     Open    Last   Close  year  month  day\n",
       "0  210.60  213.50  213.80  1710      7   21\n",
       "1  214.95  210.55  210.05  1710      7   22\n",
       "2  219.00  214.20  214.60  1710      7   23\n",
       "3  219.95  218.95  219.10  1710      7   26\n",
       "4  222.00  219.55  219.40  1710      7   27"
      ]
     },
     "execution_count": 165,
     "metadata": {},
     "output_type": "execute_result"
    }
   ],
   "source": [
    "df.head()\n"
   ]
  },
  {
   "cell_type": "code",
   "execution_count": 152,
   "metadata": {},
   "outputs": [
    {
     "name": "stdout",
     "output_type": "stream",
     "text": [
      "Score train:  0.9999167674586394\n",
      "Score test:  0.9999048287674842\n",
      "best score possible is 1.0\n",
      "Mean squared Error:  0.22992702295868583\n",
      "Best mse possible is 0\n"
     ]
    }
   ],
   "source": [
    "pipeline = Pipeline([\n",
    "    ('normalizer', Normalizer()),\n",
    "    ('regression', LinearRegression())\n",
    "])\n",
    "\n",
    "pipeline.fit(X_train, y_train)\n",
    "print(\"Score train: \", pipeline.score(X_train, y_train))\n",
    "print(\"Score test: \", pipeline.score(X_test, y_test))\n",
    "print('best score possible is 1.0')\n",
    "predicted = pipeline.predict(X_test)\n",
    "print(\"Mean squared Error: \", mean_squared_error(y_test, predicted))\n",
    "print(\"Best mse possible is 0\")"
   ]
  },
  {
   "cell_type": "markdown",
   "metadata": {},
   "source": [
    "### Rodando o Cross_validate\n",
    "\n",
    "A função [cross_validade](https://scikit-learn.org/stable/modules/generated/sklearn.model_selection.cross_validate.html#sklearn.model_selection.cross_validate) espera um `estimator`, no caso o pipeline, e o dataset o qual desejamos treinar. Um de seus parâmetros, é o `cv` que determina quantas `folds` deseja-se realizar a separação. \n",
    "\n",
    "[neg_mean_squared_error](https://scikit-learn.org/stable/modules/model_evaluation.html#common-cases-predefined-values) Retorna o valor negativo da métrica `MSE`. "
   ]
  },
  {
   "cell_type": "code",
   "execution_count": 163,
   "metadata": {},
   "outputs": [
    {
     "data": {
      "text/plain": [
       "{'fit_time': array([0.00799561, 0.00699806, 0.00899267, 0.00899434, 0.00499868,\n",
       "        0.        , 0.        , 0.01562619, 0.        , 0.        ]),\n",
       " 'score_time': array([0.00399733, 0.0049963 , 0.00499892, 0.00499701, 0.00331616,\n",
       "        0.        , 0.        , 0.        , 0.        , 0.        ]),\n",
       " 'test_neg_mean_squared_error': array([-0.51974598, -0.43835089, -0.14999242, -0.16456662, -0.12680158,\n",
       "        -0.15017288, -0.14828205, -0.13933529, -0.16578934, -0.26375155]),\n",
       " 'train_neg_mean_squared_error': array([-0.17968621, -0.18982807, -0.21812285, -0.21671674, -0.2208163 ,\n",
       "        -0.21856168, -0.21826538, -0.21941543, -0.21760748, -0.20571701]),\n",
       " 'test_r2': array([0.99918594, 0.9998671 , 0.99859739, 0.9982585 , 0.99843926,\n",
       "        0.99805131, 0.99839708, 0.99971034, 0.99869318, 0.99818041]),\n",
       " 'train_r2': array([0.9998839 , 0.99989376, 0.99991829, 0.99991713, 0.99991824,\n",
       "        0.9999191 , 0.99991899, 0.99991633, 0.99990657, 0.99991735])}"
      ]
     },
     "execution_count": 163,
     "metadata": {},
     "output_type": "execute_result"
    }
   ],
   "source": [
    "cross_validate(pipeline, X, y, cv=10, scoring=('neg_mean_squared_error', 'r2'), return_train_score=True)"
   ]
  },
  {
   "cell_type": "markdown",
   "metadata": {},
   "source": [
    "## Justificativas e Discussão\n",
    "\n",
    "Novamente, foi escolhido o modelo de regressão linear clássica. Pois o dataset não possuia uma quantidade significativa de dados e nem dados complexos. \n",
    "\n",
    "Como na questão 1, podemos observar as métricas escolhidas para a avaliação desse modelo. \n",
    "\n",
    "Essa regressão teve um score alto, pois o maior score seria 1.0, e obteve uma `MSE` satisfatório. O que diferencia a estratégia adotada na questão 1 para a questão 2, é o uso das colunas Open e Last. Essas colunas foram adicionadas, pois o enunciado afirma que o usuário quer prever o Close dentro de alguns minutos, o que permite que seja utilizadas informações a respeito do Open e informações do dia anterior.\n"
   ]
  },
  {
   "cell_type": "markdown",
   "metadata": {},
   "source": [
    "### Questão número 3\n",
    "\n",
    "Um grande desafio para os gerentes jurássicos é saber quem são os bons dinossauros pagadores, ou seja, quais são os clientes de baixo risco. Crie um modelo de Machine Learning ou Deep Learning capaz de avaliar o risco com base nas informações dos dinossauros, visando encontrar os que possuem menor risco para o DinoBank. Lembre-se que você precisa demonstrar a eficácia do seu modelo por meio de métricas."
   ]
  },
  {
   "cell_type": "code",
   "execution_count": null,
   "metadata": {},
   "outputs": [],
   "source": [
    "import numpy as np\n",
    "X = \n",
    "y = \n",
    "from sklearn.svm import SVC\n",
    "clf = SVC(C=1.0, kernel='rbf', gamma='auto' )\n",
    "clf.fit(X, y) \n",
    "clf.predict()\n",
    "print(clf.predict([]))"
   ]
  }
 ],
 "metadata": {
  "kernelspec": {
   "display_name": "Python 3",
   "language": "python",
   "name": "python3"
  },
  "language_info": {
   "codemirror_mode": {
    "name": "ipython",
    "version": 3
   },
   "file_extension": ".py",
   "mimetype": "text/x-python",
   "name": "python",
   "nbconvert_exporter": "python",
   "pygments_lexer": "ipython3",
   "version": "3.5.2"
  }
 },
 "nbformat": 4,
 "nbformat_minor": 2
}
