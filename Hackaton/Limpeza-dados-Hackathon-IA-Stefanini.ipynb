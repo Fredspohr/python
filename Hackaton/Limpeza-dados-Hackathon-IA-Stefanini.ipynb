{
 "cells": [
  {
   "cell_type": "markdown",
   "metadata": {},
   "source": [
    "# DinoBank\n",
    "\n",
    "### Desafio Stefanini - Hackathon de I.A\n",
    "\n",
    "Pesquisadores da Stefanini Research, uma equipe de pesquisadores secretos dentro da empresa Stefanini que atua para clientes especiais, e uma equipe da SNASA, o ‘S’ do nome significa secret e trata de uma equipe especial dentro da NASA que busca  explicar fenômenos que ainda deixam resquícios de dúvidas, juntos descobriram recentemente que alguns anos antes do meteoro atingir a Terra ele ficou girando em torno da órbita gerando um campo magnético que teve um efeito nos dinossauros dessa época tornando-os super inteligentes. \n",
    "A partir de então, predadores e presas parecem ter deixado de lado seus lados selvagens e começaram a produzir suas próprias tecnologias, uma dessas descobertas foi a Nuvem Jurássica, da onde até o momento o que se conseguiu recuperar foi uma página de um jornal chamado DinoNews onde falam a respeitos do fundador do maior banco daquela época. Aardonyx, fundador do DinoBank e da familia dos Troodontes, que eram considerados os dinossauros mais inteligentes da época, aparece falando sobre o desenvolvimento do que parece ser a primeira moeda digital do mundo, a DinoCoin, porém, parece que o volume de dados foi muito grande e começaram a ter problemas de clientes que não tinham retorno sobre seus investimentos, clientes que começaram a fraudar dados e gerar muita perda de dinheiro.\n",
    "Um dos outros relatos apresentados no DinoNews foi que o DinoBank também não sabia como oferecer empréstimos e produtos de seguros para os clientes, já que os dados não estão centralizados e tratados adequadamente.\n",
    "\n",
    "Junto à página do jornal foi encontrado também alguns arquivos CSVs que são os seguintes: coin.csv, dinos.csv, trade.csv e counts.csv.\n",
    "\n",
    "\tVocês foram escolhidos para ajudar a Stefanini e a SNASA para desenvolver ******* QUESTOES DA PROVA"
   ]
  },
  {
   "cell_type": "markdown",
   "metadata": {},
   "source": [
    "### Questão número 1\n",
    "\n",
    "Realize o pré-processamento dos dados e explique a razão de cada escolha:"
   ]
  },
  {
   "cell_type": "code",
   "execution_count": null,
   "metadata": {},
   "outputs": [],
   "source": []
  },
  {
   "cell_type": "markdown",
   "metadata": {},
   "source": [
    "### Questão número 2\n",
    "\n",
    "Um passo importante na preparação dos dados para a utilização de Machine Learning é a realização da atividade de Engenharia de Características. Descreva os passos realizados para a obtenção de novas características e como as mesmas afetaram a acurácia do modelo. \n",
    "\n",
    "Caso julgue que o processo de Engenharia de Características seja desnecessário, explique o porquê.\n"
   ]
  },
  {
   "cell_type": "code",
   "execution_count": null,
   "metadata": {},
   "outputs": [],
   "source": []
  },
  {
   "cell_type": "markdown",
   "metadata": {},
   "source": [
    "### Questão número 3\n",
    "\n",
    "Considerando o modelo desenvolvido na questão 3 do Notebook de Machine Learning, gere um CSV com base na classificação obtida no conjunto de teste (counts.csv). Este CSV deve conter apenas quais dinossauros podem ser considerados bons investidores para o Dinobank. "
   ]
  },
  {
   "cell_type": "code",
   "execution_count": null,
   "metadata": {},
   "outputs": [],
   "source": []
  }
 ],
 "metadata": {
  "kernelspec": {
   "display_name": "Python 3",
   "language": "python",
   "name": "python3"
  },
  "language_info": {
   "codemirror_mode": {
    "name": "ipython",
    "version": 3
   },
   "file_extension": ".py",
   "mimetype": "text/x-python",
   "name": "python",
   "nbconvert_exporter": "python",
   "pygments_lexer": "ipython3",
   "version": "3.5.2"
  }
 },
 "nbformat": 4,
 "nbformat_minor": 2
}
