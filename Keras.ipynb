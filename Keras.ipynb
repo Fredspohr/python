{
 "cells": [
  {
   "cell_type": "markdown",
   "metadata": {},
   "source": [
    "# Classificador Rede Neural."
   ]
  },
  {
   "cell_type": "markdown",
   "metadata": {},
   "source": [
    "Exemplo de um classificador usando o toy dataset iris do framework scikit learn, com uma rede neural construindo a partir do framework Keras. "
   ]
  },
  {
   "cell_type": "markdown",
   "metadata": {},
   "source": [
    "## 1 - Carregando dataset."
   ]
  },
  {
   "cell_type": "code",
   "execution_count": 1,
   "metadata": {},
   "outputs": [],
   "source": [
    "from sklearn.datasets import load_iris\n",
    "\n",
    "iris = load_iris()"
   ]
  },
  {
   "cell_type": "markdown",
   "metadata": {},
   "source": [
    "## 2 - Dividir o Dataset em Treino e Teste."
   ]
  },
  {
   "cell_type": "code",
   "execution_count": 12,
   "metadata": {},
   "outputs": [
    {
     "name": "stdout",
     "output_type": "stream",
     "text": [
      "Tamanho da base de treino é:  112\n",
      "Tamanho da base de teste é:  38\n",
      "<class 'numpy.ndarray'>\n",
      "['sepal length (cm)', 'sepal width (cm)', 'petal length (cm)', 'petal width (cm)']\n"
     ]
    }
   ],
   "source": [
    "from sklearn.model_selection import train_test_split\n",
    "\n",
    "X_train, x_test, y_train, y_test = train_test_split(iris.data, iris.target, test_size = 0.25, random_state = 42)\n",
    "\n",
    "print(\"Tamanho da base de treino é: \", len(X_train))\n",
    "print(\"Tamanho da base de teste é: \", len(x_test))\n",
    "\n",
    "# print(type(X_train))\n",
    "# print(y_train[:])\n",
    "# print(X_train[:,[0,2]])\n",
    "print(iris.feature_names)\n",
    "\n",
    "features = [2]\n",
    "\n",
    "X_train = X_train[:,features]\n",
    "x_test = x_test[:,features]\n"
   ]
  },
  {
   "cell_type": "markdown",
   "metadata": {},
   "source": [
    "### 2.1 - Tratar os dados."
   ]
  },
  {
   "cell_type": "markdown",
   "metadata": {},
   "source": [
    "Transformar as label do dataset em um array do tipo \n",
    "<li>[1 0 0] para 'setosa',</li> \n",
    "<li>[0 1 0] para versicolor e </li> \n",
    "<li>[0 0 1] para virginica.</li>  "
   ]
  },
  {
   "cell_type": "code",
   "execution_count": 3,
   "metadata": {},
   "outputs": [
    {
     "name": "stderr",
     "output_type": "stream",
     "text": [
      "Using TensorFlow backend.\n"
     ]
    },
    {
     "name": "stdout",
     "output_type": "stream",
     "text": [
      "['setosa' 'versicolor' 'virginica']\n",
      "[1. 0. 0.]\n"
     ]
    }
   ],
   "source": [
    "from keras.utils import np_utils\n",
    "\n",
    "print(iris.target_names)\n",
    "\n",
    "y_train_encoded = np_utils.to_categorical(y_train)\n",
    "y_test_encoded = np_utils.to_categorical(y_test)\n",
    "\n",
    "print(y_train_encoded[1])"
   ]
  },
  {
   "cell_type": "markdown",
   "metadata": {},
   "source": [
    "## 3 - Instanciar classificador."
   ]
  },
  {
   "cell_type": "code",
   "execution_count": 4,
   "metadata": {},
   "outputs": [],
   "source": [
    "from keras.models import Sequential\n",
    "from keras.layers import Dense\n",
    "from keras import losses\n",
    "\n",
    "model = Sequential()\n",
    "model.add(Dense(16, input_dim=len(features), activation='relu'))\n",
    "model.add(Dense(3,activation='softmax'))\n",
    "\n",
    "# losses.\n",
    "\n",
    "model.compile(loss='categorical_crossentropy',\n",
    "              optimizer='sgd',\n",
    "              metrics=['accuracy'])"
   ]
  },
  {
   "cell_type": "markdown",
   "metadata": {},
   "source": [
    "## 4 - Treinar classificador com os dados de treino."
   ]
  },
  {
   "cell_type": "code",
   "execution_count": 5,
   "metadata": {},
   "outputs": [
    {
     "name": "stdout",
     "output_type": "stream",
     "text": [
      "Epoch 1/100\n",
      "112/112 [==============================] - 0s 2ms/step - loss: 1.6244 - acc: 0.3125\n",
      "Epoch 2/100\n",
      "112/112 [==============================] - 0s 138us/step - loss: 1.3593 - acc: 0.3304\n",
      "Epoch 3/100\n",
      "112/112 [==============================] - 0s 202us/step - loss: 1.2277 - acc: 0.3482\n",
      "Epoch 4/100\n",
      "112/112 [==============================] - 0s 234us/step - loss: 1.1468 - acc: 0.3482\n",
      "Epoch 5/100\n",
      "112/112 [==============================] - 0s 190us/step - loss: 1.0947 - acc: 0.3482\n",
      "Epoch 6/100\n",
      "112/112 [==============================] - 0s 161us/step - loss: 1.0697 - acc: 0.3482\n",
      "Epoch 7/100\n",
      "112/112 [==============================] - 0s 165us/step - loss: 1.0525 - acc: 0.3482\n",
      "Epoch 8/100\n",
      "112/112 [==============================] - 0s 144us/step - loss: 1.0385 - acc: 0.3482\n",
      "Epoch 9/100\n",
      "112/112 [==============================] - 0s 150us/step - loss: 1.0294 - acc: 0.2054\n",
      "Epoch 10/100\n",
      "112/112 [==============================] - 0s 166us/step - loss: 1.0219 - acc: 0.2679\n",
      "Epoch 11/100\n",
      "112/112 [==============================] - 0s 172us/step - loss: 1.0143 - acc: 0.2768\n",
      "Epoch 12/100\n",
      "112/112 [==============================] - 0s 118us/step - loss: 1.0078 - acc: 0.3393\n",
      "Epoch 13/100\n",
      "112/112 [==============================] - 0s 136us/step - loss: 1.0035 - acc: 0.3393\n",
      "Epoch 14/100\n",
      "112/112 [==============================] - 0s 117us/step - loss: 0.9987 - acc: 0.3393\n",
      "Epoch 15/100\n",
      "112/112 [==============================] - 0s 118us/step - loss: 0.9930 - acc: 0.3393\n",
      "Epoch 16/100\n",
      "112/112 [==============================] - 0s 150us/step - loss: 0.9882 - acc: 0.3393\n",
      "Epoch 17/100\n",
      "112/112 [==============================] - 0s 148us/step - loss: 0.9839 - acc: 0.3393\n",
      "Epoch 18/100\n",
      "112/112 [==============================] - 0s 131us/step - loss: 0.9833 - acc: 0.3393\n",
      "Epoch 19/100\n",
      "112/112 [==============================] - 0s 168us/step - loss: 0.9792 - acc: 0.3393\n",
      "Epoch 20/100\n",
      "112/112 [==============================] - 0s 205us/step - loss: 0.9739 - acc: 0.3393\n",
      "Epoch 21/100\n",
      "112/112 [==============================] - 0s 100us/step - loss: 0.9703 - acc: 0.3393\n",
      "Epoch 22/100\n",
      "112/112 [==============================] - 0s 110us/step - loss: 0.9676 - acc: 0.3393\n",
      "Epoch 23/100\n",
      "112/112 [==============================] - 0s 120us/step - loss: 0.9638 - acc: 0.3393\n",
      "Epoch 24/100\n",
      "112/112 [==============================] - 0s 145us/step - loss: 0.9632 - acc: 0.3393\n",
      "Epoch 25/100\n",
      "112/112 [==============================] - 0s 121us/step - loss: 0.9577 - acc: 0.3393\n",
      "Epoch 26/100\n",
      "112/112 [==============================] - 0s 92us/step - loss: 0.9537 - acc: 0.3393\n",
      "Epoch 27/100\n",
      "112/112 [==============================] - 0s 104us/step - loss: 0.9499 - acc: 0.3393\n",
      "Epoch 28/100\n",
      "112/112 [==============================] - 0s 130us/step - loss: 0.9473 - acc: 0.3393\n",
      "Epoch 29/100\n",
      "112/112 [==============================] - 0s 217us/step - loss: 0.9440 - acc: 0.3393\n",
      "Epoch 30/100\n",
      "112/112 [==============================] - 0s 142us/step - loss: 0.9419 - acc: 0.3393\n",
      "Epoch 31/100\n",
      "112/112 [==============================] - 0s 128us/step - loss: 0.9412 - acc: 0.3393\n",
      "Epoch 32/100\n",
      "112/112 [==============================] - 0s 92us/step - loss: 0.9378 - acc: 0.3393\n",
      "Epoch 33/100\n",
      "112/112 [==============================] - 0s 160us/step - loss: 0.9326 - acc: 0.3393\n",
      "Epoch 34/100\n",
      "112/112 [==============================] - 0s 94us/step - loss: 0.9284 - acc: 0.3393\n",
      "Epoch 35/100\n",
      "112/112 [==============================] - 0s 150us/step - loss: 0.9284 - acc: 0.3393\n",
      "Epoch 36/100\n",
      "112/112 [==============================] - 0s 244us/step - loss: 0.9218 - acc: 0.3482\n",
      "Epoch 37/100\n",
      "112/112 [==============================] - 0s 168us/step - loss: 0.9193 - acc: 0.3482\n",
      "Epoch 38/100\n",
      "112/112 [==============================] - 0s 162us/step - loss: 0.9168 - acc: 0.3571\n",
      "Epoch 39/100\n",
      "112/112 [==============================] - 0s 105us/step - loss: 0.9122 - acc: 0.3661\n",
      "Epoch 40/100\n",
      "112/112 [==============================] - 0s 94us/step - loss: 0.9104 - acc: 0.3661\n",
      "Epoch 41/100\n",
      "112/112 [==============================] - 0s 179us/step - loss: 0.9071 - acc: 0.4107\n",
      "Epoch 42/100\n",
      "112/112 [==============================] - 0s 134us/step - loss: 0.9053 - acc: 0.4107\n",
      "Epoch 43/100\n",
      "112/112 [==============================] - 0s 180us/step - loss: 0.9057 - acc: 0.4107\n",
      "Epoch 44/100\n",
      "112/112 [==============================] - 0s 139us/step - loss: 0.8986 - acc: 0.4732\n",
      "Epoch 45/100\n",
      "112/112 [==============================] - 0s 138us/step - loss: 0.8951 - acc: 0.5089\n",
      "Epoch 46/100\n",
      "112/112 [==============================] - 0s 147us/step - loss: 0.8923 - acc: 0.5089\n",
      "Epoch 47/100\n",
      "112/112 [==============================] - 0s 145us/step - loss: 0.8879 - acc: 0.5268\n",
      "Epoch 48/100\n",
      "112/112 [==============================] - 0s 96us/step - loss: 0.8850 - acc: 0.5804\n",
      "Epoch 49/100\n",
      "112/112 [==============================] - 0s 193us/step - loss: 0.8821 - acc: 0.5804\n",
      "Epoch 50/100\n",
      "112/112 [==============================] - 0s 187us/step - loss: 0.8805 - acc: 0.5804\n",
      "Epoch 51/100\n",
      "112/112 [==============================] - 0s 148us/step - loss: 0.8753 - acc: 0.5804\n",
      "Epoch 52/100\n",
      "112/112 [==============================] - 0s 157us/step - loss: 0.8737 - acc: 0.6071\n",
      "Epoch 53/100\n",
      "112/112 [==============================] - 0s 102us/step - loss: 0.8693 - acc: 0.6071\n",
      "Epoch 54/100\n",
      "112/112 [==============================] - 0s 128us/step - loss: 0.8673 - acc: 0.6071\n",
      "Epoch 55/100\n",
      "112/112 [==============================] - 0s 165us/step - loss: 0.8633 - acc: 0.6161\n",
      "Epoch 56/100\n",
      "112/112 [==============================] - 0s 105us/step - loss: 0.8600 - acc: 0.6339\n",
      "Epoch 57/100\n",
      "112/112 [==============================] - 0s 148us/step - loss: 0.8604 - acc: 0.6339\n",
      "Epoch 58/100\n",
      "112/112 [==============================] - 0s 172us/step - loss: 0.8544 - acc: 0.6339\n",
      "Epoch 59/100\n",
      "112/112 [==============================] - 0s 124us/step - loss: 0.8516 - acc: 0.6339\n",
      "Epoch 60/100\n",
      "112/112 [==============================] - 0s 159us/step - loss: 0.8493 - acc: 0.6339\n",
      "Epoch 61/100\n",
      "112/112 [==============================] - 0s 147us/step - loss: 0.8446 - acc: 0.6339\n",
      "Epoch 62/100\n",
      "112/112 [==============================] - 0s 140us/step - loss: 0.8422 - acc: 0.6339\n",
      "Epoch 63/100\n",
      "112/112 [==============================] - 0s 121us/step - loss: 0.8398 - acc: 0.6339\n",
      "Epoch 64/100\n",
      "112/112 [==============================] - 0s 147us/step - loss: 0.8363 - acc: 0.6339\n",
      "Epoch 65/100\n",
      "112/112 [==============================] - 0s 124us/step - loss: 0.8340 - acc: 0.6429\n",
      "Epoch 66/100\n",
      "112/112 [==============================] - 0s 155us/step - loss: 0.8332 - acc: 0.6339\n",
      "Epoch 67/100\n",
      "112/112 [==============================] - 0s 166us/step - loss: 0.8275 - acc: 0.6518\n",
      "Epoch 68/100\n",
      "112/112 [==============================] - 0s 166us/step - loss: 0.8240 - acc: 0.6518\n",
      "Epoch 69/100\n",
      "112/112 [==============================] - 0s 152us/step - loss: 0.8226 - acc: 0.6518\n",
      "Epoch 70/100\n",
      "112/112 [==============================] - 0s 159us/step - loss: 0.8183 - acc: 0.6518\n",
      "Epoch 71/100\n",
      "112/112 [==============================] - 0s 141us/step - loss: 0.8172 - acc: 0.6518\n",
      "Epoch 72/100\n",
      "112/112 [==============================] - 0s 143us/step - loss: 0.8140 - acc: 0.6518\n",
      "Epoch 73/100\n",
      "112/112 [==============================] - 0s 80us/step - loss: 0.8101 - acc: 0.6518\n",
      "Epoch 74/100\n",
      "112/112 [==============================] - 0s 132us/step - loss: 0.8058 - acc: 0.6518\n",
      "Epoch 75/100\n",
      "112/112 [==============================] - 0s 138us/step - loss: 0.8044 - acc: 0.6518\n",
      "Epoch 76/100\n",
      "112/112 [==============================] - 0s 132us/step - loss: 0.8023 - acc: 0.6518\n",
      "Epoch 77/100\n",
      "112/112 [==============================] - 0s 135us/step - loss: 0.7990 - acc: 0.6518\n",
      "Epoch 78/100\n",
      "112/112 [==============================] - 0s 156us/step - loss: 0.7962 - acc: 0.6518\n",
      "Epoch 79/100\n",
      "112/112 [==============================] - 0s 173us/step - loss: 0.7952 - acc: 0.6607\n",
      "Epoch 80/100\n",
      "112/112 [==============================] - 0s 123us/step - loss: 0.7891 - acc: 0.6518\n",
      "Epoch 81/100\n",
      "112/112 [==============================] - 0s 168us/step - loss: 0.7859 - acc: 0.6518\n",
      "Epoch 82/100\n",
      "112/112 [==============================] - 0s 145us/step - loss: 0.7843 - acc: 0.6518\n",
      "Epoch 83/100\n"
     ]
    },
    {
     "name": "stdout",
     "output_type": "stream",
     "text": [
      "112/112 [==============================] - 0s 127us/step - loss: 0.7826 - acc: 0.6518\n",
      "Epoch 84/100\n",
      "112/112 [==============================] - 0s 151us/step - loss: 0.7777 - acc: 0.6518\n",
      "Epoch 85/100\n",
      "112/112 [==============================] - 0s 147us/step - loss: 0.7758 - acc: 0.6518\n",
      "Epoch 86/100\n",
      "112/112 [==============================] - 0s 194us/step - loss: 0.7717 - acc: 0.6518\n",
      "Epoch 87/100\n",
      "112/112 [==============================] - 0s 125us/step - loss: 0.7692 - acc: 0.6518\n",
      "Epoch 88/100\n",
      "112/112 [==============================] - 0s 95us/step - loss: 0.7678 - acc: 0.6518\n",
      "Epoch 89/100\n",
      "112/112 [==============================] - 0s 119us/step - loss: 0.7645 - acc: 0.6518\n",
      "Epoch 90/100\n",
      "112/112 [==============================] - 0s 133us/step - loss: 0.7611 - acc: 0.6518\n",
      "Epoch 91/100\n",
      "112/112 [==============================] - 0s 198us/step - loss: 0.7573 - acc: 0.6607\n",
      "Epoch 92/100\n",
      "112/112 [==============================] - 0s 99us/step - loss: 0.7553 - acc: 0.6518\n",
      "Epoch 93/100\n",
      "112/112 [==============================] - 0s 161us/step - loss: 0.7520 - acc: 0.6518\n",
      "Epoch 94/100\n",
      "112/112 [==============================] - 0s 113us/step - loss: 0.7490 - acc: 0.6518\n",
      "Epoch 95/100\n",
      "112/112 [==============================] - 0s 156us/step - loss: 0.7462 - acc: 0.6607\n",
      "Epoch 96/100\n",
      "112/112 [==============================] - 0s 138us/step - loss: 0.7439 - acc: 0.6607\n",
      "Epoch 97/100\n",
      "112/112 [==============================] - 0s 140us/step - loss: 0.7408 - acc: 0.6518\n",
      "Epoch 98/100\n",
      "112/112 [==============================] - 0s 140us/step - loss: 0.7376 - acc: 0.6518\n",
      "Epoch 99/100\n",
      "112/112 [==============================] - 0s 95us/step - loss: 0.7375 - acc: 0.6518\n",
      "Epoch 100/100\n",
      "112/112 [==============================] - 0s 98us/step - loss: 0.7348 - acc: 0.6518\n"
     ]
    },
    {
     "data": {
      "text/plain": [
       "<keras.callbacks.History at 0x7f111131f710>"
      ]
     },
     "execution_count": 5,
     "metadata": {},
     "output_type": "execute_result"
    }
   ],
   "source": [
    "model.fit(X_train, y_train_encoded,batch_size=16, epochs=100)"
   ]
  },
  {
   "cell_type": "markdown",
   "metadata": {},
   "source": [
    "## 5 - Extrair métrica\n"
   ]
  },
  {
   "cell_type": "code",
   "execution_count": 6,
   "metadata": {
    "scrolled": false
   },
   "outputs": [
    {
     "name": "stdout",
     "output_type": "stream",
     "text": [
      "112/112 [==============================] - 0s 281us/step\n",
      "38/38 [==============================] - 0s 61us/step\n",
      "Acurracia dos dados treino:  [0.7299906781741551, 0.6607142857142857]\n",
      "Acurracia dos dados teste:  [0.7183860728615209, 0.7105263189265603]\n",
      "[1 0 2 1 1 0 1 2 1 1 2 0 0 0 0 1 2 1 1 2 0 2 0 2 2 2 2 2 0 0 0 0 1 0 0 2 1\n",
      " 0]\n",
      "[2 0 2 2 2 0 2 2 2 2 2 0 0 0 0 2 2 2 2 2 0 2 0 2 2 2 2 2 0 0 0 0 2 0 0 2 2\n",
      " 0]\n"
     ]
    }
   ],
   "source": [
    "def evaluate(model, X, y):\n",
    "    return model.evaluate(X, y)\n",
    "\n",
    "score = evaluate(model, X_train, y_train_encoded)\n",
    "score_teste = evaluate(model, x_test, y_test_encoded)\n",
    "\n",
    "print('Acurracia dos dados treino: ',score)\n",
    "print('Acurracia dos dados teste: ',score_teste)\n",
    "\n",
    "print(y_test[:])\n",
    "predict = model.predict_classes(x_test)\n",
    "print(predict)"
   ]
  },
  {
   "cell_type": "code",
   "execution_count": 7,
   "metadata": {},
   "outputs": [
    {
     "name": "stdout",
     "output_type": "stream",
     "text": [
      "              precision    recall  f1-score   support\n",
      "\n",
      "      setosa       1.00      1.00      1.00        15\n",
      "  versicolor       0.00      0.00      0.00        11\n",
      "   virginica       0.52      1.00      0.69        12\n",
      "\n",
      "   micro avg       0.71      0.71      0.71        38\n",
      "   macro avg       0.51      0.67      0.56        38\n",
      "weighted avg       0.56      0.71      0.61        38\n",
      "\n",
      "[[15  0  0]\n",
      " [ 0  0 11]\n",
      " [ 0  0 12]]\n"
     ]
    },
    {
     "name": "stderr",
     "output_type": "stream",
     "text": [
      "/usr/local/lib/python3.5/dist-packages/sklearn/metrics/classification.py:1143: UndefinedMetricWarning: Precision and F-score are ill-defined and being set to 0.0 in labels with no predicted samples.\n",
      "  'precision', 'predicted', average, warn_for)\n"
     ]
    }
   ],
   "source": [
    "from sklearn import metrics\n",
    "print(metrics.classification_report(y_test, predict, target_names=iris.target_names))\n",
    "print(metrics.confusion_matrix(y_test, predict))"
   ]
  },
  {
   "cell_type": "code",
   "execution_count": 8,
   "metadata": {},
   "outputs": [
    {
     "name": "stdout",
     "output_type": "stream",
     "text": [
      "TRAIN: [ 75  76  77  78  79  80  81  82  83  84  85  86  87  88  89  90  91  92\n",
      "  93  94  95  96  97  98  99 100 101 102 103 104 105 106 107 108 109 110\n",
      " 111 112 113 114 115 116 117 118 119 120 121 122 123 124 125 126 127 128\n",
      " 129 130 131 132 133 134 135 136 137 138 139 140 141 142 143 144 145 146\n",
      " 147 148 149] TEST: [ 0  1  2  3  4  5  6  7  8  9 10 11 12 13 14 15 16 17 18 19 20 21 22 23\n",
      " 24 25 26 27 28 29 30 31 32 33 34 35 36 37 38 39 40 41 42 43 44 45 46 47\n",
      " 48 49 50 51 52 53 54 55 56 57 58 59 60 61 62 63 64 65 66 67 68 69 70 71\n",
      " 72 73 74]\n",
      "TRAIN: [ 0  1  2  3  4  5  6  7  8  9 10 11 12 13 14 15 16 17 18 19 20 21 22 23\n",
      " 24 25 26 27 28 29 30 31 32 33 34 35 36 37 38 39 40 41 42 43 44 45 46 47\n",
      " 48 49 50 51 52 53 54 55 56 57 58 59 60 61 62 63 64 65 66 67 68 69 70 71\n",
      " 72 73 74] TEST: [ 75  76  77  78  79  80  81  82  83  84  85  86  87  88  89  90  91  92\n",
      "  93  94  95  96  97  98  99 100 101 102 103 104 105 106 107 108 109 110\n",
      " 111 112 113 114 115 116 117 118 119 120 121 122 123 124 125 126 127 128\n",
      " 129 130 131 132 133 134 135 136 137 138 139 140 141 142 143 144 145 146\n",
      " 147 148 149]\n"
     ]
    }
   ],
   "source": [
    "from sklearn.model_selection import KFold\n",
    "\n",
    "kf = KFold(n_splits=2)\n",
    "X  = iris.data\n",
    "y = iris.target\n",
    "kf.get_n_splits(X)\n",
    "\n",
    "# print(kf)  \n",
    "\n",
    "for train_index, test_index in kf.split(X):\n",
    "   print(\"TRAIN:\", train_index, \"TEST:\", test_index)\n",
    "   X_train, X_test = X[train_index], X[test_index]\n",
    "   y_train, y_test = y[train_index], y[test_index]\n",
    "\n",
    "\n"
   ]
  },
  {
   "cell_type": "code",
   "execution_count": null,
   "metadata": {},
   "outputs": [],
   "source": []
  }
 ],
 "metadata": {
  "kernelspec": {
   "display_name": "Python 3",
   "language": "python",
   "name": "python3"
  },
  "language_info": {
   "codemirror_mode": {
    "name": "ipython",
    "version": 3
   },
   "file_extension": ".py",
   "mimetype": "text/x-python",
   "name": "python",
   "nbconvert_exporter": "python",
   "pygments_lexer": "ipython3",
   "version": "3.5.2"
  }
 },
 "nbformat": 4,
 "nbformat_minor": 2
}
