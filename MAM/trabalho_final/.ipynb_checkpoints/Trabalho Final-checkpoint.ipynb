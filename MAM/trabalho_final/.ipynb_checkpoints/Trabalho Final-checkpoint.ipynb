{
 "cells": [
  {
   "cell_type": "markdown",
   "metadata": {},
   "source": [
    "**Objetivos**\n",
    "O Trabalho Final em laboratório virtual possui como objetivos principais:\n",
    "1. Utilizar dois algoritmos de classificação para resolver um problema.\n",
    "2. Fazer a análise deste problema com uso de métricas de qualidade, comparando as soluções.\n",
    "3. Tornar mais robusta a solução do problema com uso de validação cruzada e busca de hiperparâmetros.\n",
    "\n",
    "Para este trabalho, a linguagem utilizada será o Python 3, e a ferramenta de desenvolvimento recomendada é o Jupyter notebook."
   ]
  },
  {
   "cell_type": "markdown",
   "metadata": {},
   "source": [
    "**Enunciado**\n",
    "\n",
    "**Trabalho Final - O dataset IRIS**\n",
    "**Classes:** 3 |\n",
    "**Amostras por classe:** 50 |\n",
    "**Total de amostras:** 150 |\n",
    "**Dimensionalidade:** 4 |\n",
    "**Tipo das features:** Números reais positivos\n",
    "\n",
    "O conjunto de dados IRIS talvez seja o mais clássico dos conjuntos de testes de algoritmos de classificação. Ele divide amostras de plantas em três espécies diferentes e tem, como features, a altura e largura de duas partes da planta: a sépala e as pétalas.\n",
    "\n",
    "Neste trabalho, você deve classificar esse conjunto de dados com pelo menos dois algoritmos. Você deverá analisá-los segundo as métricas de qualidade que julgar relevantes, e utilizar técnicas de busca de hiperparâmetros e validação cruzada para tornar seus resultados mais robustos. As perguntas abaixo guiarão seus trabalhos.\n",
    "\n",
    "Lembre-se de que a qualidade do seu trabalho será medida, principalmente, de acordo com suas explicações e justificativas. O resultado final do seu algoritmo, embora espere-se que seja satisfatório, é menos importante.\n",
    "\n",
    "Fonte: http://scikit-learn.org/stable/modules/generated/sklearn.datasets.load_iris.html\n",
    "\n",
    "Observação: Gerar gráficos que expliquem e ilustrem o seu problema não é parte obrigatória da resolução do trabalho, mas é um treino bastante recomendado."
   ]
  },
  {
   "cell_type": "code",
   "execution_count": 15,
   "metadata": {},
   "outputs": [],
   "source": [
    "from sklearn import datasets\n",
    "from sklearn.decomposition import PCA\n",
    "\n",
    "iris = datasets.load_iris()\n",
    "X = iris.data[:, :]  # pegamos as primeiras duas features aqui. Pegue as outras se quiser.\n",
    "y = iris.target\n",
    "\n",
    "# y[0] # classe do primeiro elemento\n",
    "# X[:1, :] # primeiro elemento a classificar\n",
    "# Load libraries\n",
    "import matplotlib.pyplot as plt\n",
    "from sklearn import model_selection\n",
    "\n",
    "from sklearn.metrics import classification_report,confusion_matrix,accuracy_score\n",
    "\n",
    "from sklearn.neighbors import KNeighborsClassifier\n",
    "\n",
    "from sklearn.svm import SVC\n"
   ]
  },
  {
   "cell_type": "code",
   "execution_count": 2,
   "metadata": {},
   "outputs": [
    {
     "name": "stdout",
     "output_type": "stream",
     "text": [
      "(150, 4)\n"
     ]
    }
   ],
   "source": [
    "print(X.shape)"
   ]
  },
  {
   "cell_type": "markdown",
   "metadata": {},
   "source": [
    "Separando os dados de treino e validação em 70/30"
   ]
  },
  {
   "cell_type": "code",
   "execution_count": 3,
   "metadata": {},
   "outputs": [],
   "source": [
    "tamanhoTeste = 0.30\n",
    "seed = 7\n",
    "X_train, X_validation, Y_train, Y_validation = model_selection.train_test_split(X, y, test_size=tamanhoTeste, random_state=seed)"
   ]
  },
  {
   "cell_type": "markdown",
   "metadata": {},
   "source": [
    "Testando a acuracia de cada algoritmo"
   ]
  },
  {
   "cell_type": "code",
   "execution_count": 14,
   "metadata": {},
   "outputs": [
    {
     "name": "stdout",
     "output_type": "stream",
     "text": [
      "KNN: 0.980000\n",
      "SVM: 0.990000\n"
     ]
    }
   ],
   "source": [
    "models = []\n",
    "models.append(('KNN', KNeighborsClassifier()))\n",
    "models.append(('SVM', SVC()))\n",
    "\n",
    "results = []\n",
    "names = []\n",
    "for name, model in models:\n",
    "    kfold = model_selection.KFold(n_splits=10, random_state=7)\n",
    "    cv_results = model_selection.cross_val_score(model, X_train, Y_train, cv=kfold, scoring='accuracy')\n",
    "    results.append(cv_results)\n",
    "    names.append(name)\n",
    "    msg = \"%s: %f\" % (name, cv_results.mean())\n",
    "    print(msg)"
   ]
  },
  {
   "cell_type": "code",
   "execution_count": 5,
   "metadata": {},
   "outputs": [
    {
     "data": {
      "image/png": "[encoded data removed]",
      "text/plain": [
       "<Figure size 432x288 with 1 Axes>"
      ]
     },
     "metadata": {
      "needs_background": "light"
     },
     "output_type": "display_data"
    }
   ],
   "source": [
    "fig = plt.figure()\n",
    "fig.suptitle('Compracao de algoritimos')\n",
    "ax = fig.add_subplot(111)\n",
    "plt.boxplot(results)\n",
    "ax.set_xticklabels(names)\n",
    "plt.show()"
   ]
  },
  {
   "cell_type": "markdown",
   "metadata": {},
   "source": [
    "Buscando por hiperparametros para o SVM"
   ]
  },
  {
   "cell_type": "code",
   "execution_count": 24,
   "metadata": {},
   "outputs": [
    {
     "name": "stdout",
     "output_type": "stream",
     "text": [
      "Melhor;rbf \n",
      "Melhor;1 \n"
     ]
    }
   ],
   "source": [
    "# Buscando por hiperparametros Usando Busca em Gride \n",
    "from sklearn.model_selection import GridSearchCV\n",
    "parameters = {'kernel':('linear', 'rbf'), 'C':[1, 10]}\n",
    "svm = SVC()\n",
    "clf = GridSearchCV(svm, parameters, cv=10)\n",
    "clf.fit(X, y)\n",
    "print(\"Melhor;{0} \".format(clf.best_params_['kernel']))\n",
    "print(\"Melhor;{0} \".format(clf.best_params_['C']))\n"
   ]
  },
  {
   "cell_type": "markdown",
   "metadata": {},
   "source": [
    "Usando os parametros encontrados para a busca de hiperparametros"
   ]
  },
  {
   "cell_type": "code",
   "execution_count": 25,
   "metadata": {},
   "outputs": [
    {
     "name": "stdout",
     "output_type": "stream",
     "text": [
      "Acuracia: 0.9555555555555556\n",
      "[[12  0  0]\n",
      " [ 0 14  2]\n",
      " [ 0  0 17]]\n"
     ]
    }
   ],
   "source": [
    "svm = SVC(kernel='rbf', C=1.0)\n",
    "svm.fit(X_train, Y_train)\n",
    "predictions = svm.predict(X_validation)\n",
    "print(\"Acuracia: {0}\".format(accuracy_score(Y_validation, predictions)))\n",
    "print(confusion_matrix(Y_validation, predictions))"
   ]
  },
  {
   "cell_type": "code",
   "execution_count": 8,
   "metadata": {
    "scrolled": true
   },
   "outputs": [
    {
     "name": "stdout",
     "output_type": "stream",
     "text": [
      "Acuracia: 0.9555555555555556\n",
      "[[12  0  0]\n",
      " [ 0 14  2]\n",
      " [ 0  0 17]]\n"
     ]
    }
   ],
   "source": [
    "svm = SVC()\n",
    "svm.fit(X_train, Y_train)\n",
    "predictions = svm.predict(X_validation)\n",
    "print(\"Acuracia: {0}\".format(accuracy_score(Y_validation, predictions)))\n",
    "print(confusion_matrix(Y_validation, predictions))"
   ]
  },
  {
   "cell_type": "markdown",
   "metadata": {},
   "source": [
    "Buscando por hiperparametros para o knn"
   ]
  },
  {
   "cell_type": "code",
   "execution_count": 9,
   "metadata": {},
   "outputs": [
    {
     "name": "stdout",
     "output_type": "stream",
     "text": [
      "Melhor;1 \n"
     ]
    }
   ],
   "source": [
    "# Buscando por hiperparametros Usando Busca em Gride \n",
    "from sklearn.model_selection import GridSearchCV\n",
    "parameters = {'n_neighbors':(1,20)}\n",
    "knn = KNeighborsClassifier()\n",
    "clf = GridSearchCV(knn, parameters, cv=5)\n",
    "clf.fit(X, y)\n",
    "print(\"Melhor;{0} \".format(clf.best_params_['n_neighbors']))"
   ]
  },
  {
   "cell_type": "markdown",
   "metadata": {},
   "source": [
    "Usando os parametros encontrados para a busca de hiperparametros"
   ]
  },
  {
   "cell_type": "code",
   "execution_count": 10,
   "metadata": {
    "scrolled": true
   },
   "outputs": [
    {
     "name": "stdout",
     "output_type": "stream",
     "text": [
      "Acuracia: 0.9333333333333333\n",
      "[[12  0  0]\n",
      " [ 0 15  1]\n",
      " [ 0  2 15]]\n"
     ]
    }
   ],
   "source": [
    "knn = KNeighborsClassifier( n_neighbors=1)\n",
    "knn.fit(X_train, Y_train)\n",
    "predictions = knn.predict(X_validation)\n",
    "print(\"Acuracia: {0}\".format(accuracy_score(Y_validation, predictions)))\n",
    "print(confusion_matrix(Y_validation, predictions))"
   ]
  },
  {
   "cell_type": "code",
   "execution_count": 11,
   "metadata": {},
   "outputs": [
    {
     "name": "stdout",
     "output_type": "stream",
     "text": [
      "Acuracia:0.9111111111111111\n",
      "[[12  0  0]\n",
      " [ 0 15  1]\n",
      " [ 0  3 14]]\n"
     ]
    }
   ],
   "source": [
    "knn = KNeighborsClassifier()\n",
    "knn.fit(X_train, Y_train)\n",
    "predictions = knn.predict(X_validation)\n",
    "print(\"Acuracia:{0}\".format(accuracy_score(Y_validation, predictions)))\n",
    "print(confusion_matrix(Y_validation, predictions))"
   ]
  },
  {
   "cell_type": "code",
   "execution_count": null,
   "metadata": {},
   "outputs": [],
   "source": []
  }
 ],
 "metadata": {
  "kernelspec": {
   "display_name": "Python 3",
   "language": "python",
   "name": "python3"
  },
  "language_info": {
   "codemirror_mode": {
    "name": "ipython",
    "version": 3
   },
   "file_extension": ".py",
   "mimetype": "text/x-python",
   "name": "python",
   "nbconvert_exporter": "python",
   "pygments_lexer": "ipython3",
   "version": "3.7.0"
  }
 },
 "nbformat": 4,
 "nbformat_minor": 2
}
