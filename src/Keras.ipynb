{
 "cells": [
  {
   "cell_type": "markdown",
   "metadata": {},
   "source": [
    "# Classificador Rede Neural."
   ]
  },
  {
   "cell_type": "markdown",
   "metadata": {},
   "source": [
    "Exemplo de um classificador usando o toy dataset iris do framework scikit learn, com uma rede neural construindo a partir do framework Keras. "
   ]
  },
  {
   "cell_type": "markdown",
   "metadata": {},
   "source": [
    "## 1 - Carregando dataset."
   ]
  },
  {
   "cell_type": "code",
   "execution_count": 1,
   "metadata": {},
   "outputs": [],
   "source": [
    "from sklearn.datasets import load_iris\n",
    "\n",
    "iris = load_iris()"
   ]
  },
  {
   "cell_type": "markdown",
   "metadata": {},
   "source": [
    "## 2 - Dividir o Dataset em Treino e Teste."
   ]
  },
  {
   "cell_type": "code",
   "execution_count": 2,
   "metadata": {},
   "outputs": [
    {
     "name": "stdout",
     "output_type": "stream",
     "text": [
      "Tamanho da base de treino é:  112\n",
      "Tamanho da base de teste é:  38\n",
      "[0 0 2 1 1 0 0 1 2 2 1 2 1 2 1 0 2 1 0 0 0 1 2 0 0 0 1 0 1 2 0 1 2 0 2 2 1\n",
      " 1 2 1 0 1 2 0 0 1 1 0 2 0 0 1 1 2 1 2 2 1 0 0 2 2 0 0 0 1 2 0 2 2 0 1 1 2\n",
      " 1 2 0 2 1 2 1 1 1 0 1 1 0 1 2 2 0 1 2 2 0 2 0 1 2 2 1 2 1 1 2 2 0 1 2 0 1\n",
      " 2]\n",
      "['sepal length (cm)', 'sepal width (cm)', 'petal length (cm)', 'petal width (cm)']\n"
     ]
    }
   ],
   "source": [
    "from sklearn.model_selection import train_test_split\n",
    "\n",
    "X_train, x_test, y_train, y_test = train_test_split(iris.data, iris.target, test_size = 0.25, random_state = 42)\n",
    "\n",
    "print(\"Tamanho da base de treino é: \", len(X_train))\n",
    "print(\"Tamanho da base de teste é: \", len(x_test))\n",
    "\n",
    "print(y_train[:])\n",
    "# print(X_train[:,[0,2]])\n",
    "print(iris.feature_names)\n",
    "\n",
    "features = [2]\n",
    "\n",
    "X_train = X_train[:,features]\n",
    "x_test = x_test[:,features]\n"
   ]
  },
  {
   "cell_type": "markdown",
   "metadata": {},
   "source": [
    "### 2.1 - Tratar os dados."
   ]
  },
  {
   "cell_type": "markdown",
   "metadata": {},
   "source": [
    "Transformar as label do dataset em um array do tipo \n",
    "<li>[1 0 0] para 'setosa',</li> \n",
    "<li>[0 1 0] para versicolor e </li> \n",
    "<li>[0 0 1] para virginica.</li>  "
   ]
  },
  {
   "cell_type": "code",
   "execution_count": 3,
   "metadata": {},
   "outputs": [
    {
     "name": "stderr",
     "output_type": "stream",
     "text": [
      "Using TensorFlow backend.\n"
     ]
    },
    {
     "name": "stdout",
     "output_type": "stream",
     "text": [
      "['setosa' 'versicolor' 'virginica']\n"
     ]
    }
   ],
   "source": [
    "from keras.utils import np_utils\n",
    "\n",
    "print(iris.target_names)\n",
    "\n",
    "y_train_encoded = np_utils.to_categorical(y_train)\n",
    "y_test_encoded = np_utils.to_categorical(y_test)\n"
   ]
  },
  {
   "cell_type": "markdown",
   "metadata": {},
   "source": [
    "## 3 - Instanciar classificador."
   ]
  },
  {
   "cell_type": "code",
   "execution_count": 4,
   "metadata": {},
   "outputs": [],
   "source": [
    "from keras.models import Sequential\n",
    "from keras.layers import Dense\n",
    "from keras import losses\n",
    "\n",
    "model = Sequential()\n",
    "model.add(Dense(16, input_dim=len(features), activation='relu'))\n",
    "model.add(Dense(3,activation='softmax'))\n",
    "\n",
    "# losses.\n",
    "\n",
    "model.compile(loss='categorical_crossentropy',\n",
    "              optimizer='sgd',\n",
    "              metrics=['accuracy'])"
   ]
  },
  {
   "cell_type": "markdown",
   "metadata": {},
   "source": [
    "## 4 - Treinar classificador com os dados de treino."
   ]
  },
  {
   "cell_type": "code",
   "execution_count": 13,
   "metadata": {},
   "outputs": [
    {
     "name": "stdout",
     "output_type": "stream",
     "text": [
      "Epoch 1/100\n",
      "112/112 [==============================] - 0s 133us/step - loss: 0.4982 - acc: 0.8571\n",
      "Epoch 2/100\n",
      "112/112 [==============================] - 0s 206us/step - loss: 0.4992 - acc: 0.8125\n",
      "Epoch 3/100\n",
      "112/112 [==============================] - 0s 131us/step - loss: 0.4947 - acc: 0.8929\n",
      "Epoch 4/100\n",
      "112/112 [==============================] - 0s 155us/step - loss: 0.4943 - acc: 0.8661\n",
      "Epoch 5/100\n",
      "112/112 [==============================] - 0s 151us/step - loss: 0.5004 - acc: 0.8571\n",
      "Epoch 6/100\n",
      "112/112 [==============================] - 0s 136us/step - loss: 0.4937 - acc: 0.8571\n",
      "Epoch 7/100\n",
      "112/112 [==============================] - 0s 184us/step - loss: 0.4907 - acc: 0.8482\n",
      "Epoch 8/100\n",
      "112/112 [==============================] - 0s 195us/step - loss: 0.4899 - acc: 0.8571\n",
      "Epoch 9/100\n",
      "112/112 [==============================] - 0s 112us/step - loss: 0.4887 - acc: 0.8661\n",
      "Epoch 10/100\n",
      "112/112 [==============================] - 0s 252us/step - loss: 0.4873 - acc: 0.8304\n",
      "Epoch 11/100\n",
      "112/112 [==============================] - 0s 135us/step - loss: 0.4847 - acc: 0.8661\n",
      "Epoch 12/100\n",
      "112/112 [==============================] - 0s 236us/step - loss: 0.4839 - acc: 0.8482\n",
      "Epoch 13/100\n",
      "112/112 [==============================] - 0s 197us/step - loss: 0.4824 - acc: 0.8661\n",
      "Epoch 14/100\n",
      "112/112 [==============================] - 0s 201us/step - loss: 0.4834 - acc: 0.8661\n",
      "Epoch 15/100\n",
      "112/112 [==============================] - 0s 154us/step - loss: 0.4819 - acc: 0.8661\n",
      "Epoch 16/100\n",
      "112/112 [==============================] - 0s 139us/step - loss: 0.4818 - acc: 0.8661\n",
      "Epoch 17/100\n",
      "112/112 [==============================] - 0s 193us/step - loss: 0.4772 - acc: 0.8661\n",
      "Epoch 18/100\n",
      "112/112 [==============================] - 0s 177us/step - loss: 0.4776 - acc: 0.8482\n",
      "Epoch 19/100\n",
      "112/112 [==============================] - 0s 140us/step - loss: 0.4756 - acc: 0.8929\n",
      "Epoch 20/100\n",
      "112/112 [==============================] - 0s 188us/step - loss: 0.4743 - acc: 0.8661\n",
      "Epoch 21/100\n",
      "112/112 [==============================] - 0s 92us/step - loss: 0.4721 - acc: 0.9375\n",
      "Epoch 22/100\n",
      "112/112 [==============================] - 0s 159us/step - loss: 0.4740 - acc: 0.8393\n",
      "Epoch 23/100\n",
      "112/112 [==============================] - 0s 187us/step - loss: 0.4752 - acc: 0.8304\n",
      "Epoch 24/100\n",
      "112/112 [==============================] - 0s 184us/step - loss: 0.4700 - acc: 0.8839\n",
      "Epoch 25/100\n",
      "112/112 [==============================] - 0s 150us/step - loss: 0.4699 - acc: 0.9107\n",
      "Epoch 26/100\n",
      "112/112 [==============================] - 0s 184us/step - loss: 0.4667 - acc: 0.8750\n",
      "Epoch 27/100\n",
      "112/112 [==============================] - 0s 206us/step - loss: 0.4668 - acc: 0.8750\n",
      "Epoch 28/100\n",
      "112/112 [==============================] - 0s 196us/step - loss: 0.4657 - acc: 0.8750\n",
      "Epoch 29/100\n",
      "112/112 [==============================] - 0s 141us/step - loss: 0.4668 - acc: 0.8750\n",
      "Epoch 30/100\n",
      "112/112 [==============================] - 0s 141us/step - loss: 0.4632 - acc: 0.9018\n",
      "Epoch 31/100\n",
      "112/112 [==============================] - 0s 201us/step - loss: 0.4634 - acc: 0.8661\n",
      "Epoch 32/100\n",
      "112/112 [==============================] - 0s 127us/step - loss: 0.4607 - acc: 0.9107\n",
      "Epoch 33/100\n",
      "112/112 [==============================] - 0s 111us/step - loss: 0.4589 - acc: 0.8929\n",
      "Epoch 34/100\n",
      "112/112 [==============================] - 0s 89us/step - loss: 0.4584 - acc: 0.9196\n",
      "Epoch 35/100\n",
      "112/112 [==============================] - 0s 167us/step - loss: 0.4610 - acc: 0.8839\n",
      "Epoch 36/100\n",
      "112/112 [==============================] - 0s 164us/step - loss: 0.4554 - acc: 0.8750\n",
      "Epoch 37/100\n",
      "112/112 [==============================] - 0s 169us/step - loss: 0.4563 - acc: 0.8661\n",
      "Epoch 38/100\n",
      "112/112 [==============================] - 0s 162us/step - loss: 0.4518 - acc: 0.8839\n",
      "Epoch 39/100\n",
      "112/112 [==============================] - 0s 176us/step - loss: 0.4538 - acc: 0.8839\n",
      "Epoch 40/100\n",
      "112/112 [==============================] - 0s 176us/step - loss: 0.4500 - acc: 0.9375\n",
      "Epoch 41/100\n",
      "112/112 [==============================] - 0s 200us/step - loss: 0.4510 - acc: 0.8839\n",
      "Epoch 42/100\n",
      "112/112 [==============================] - 0s 157us/step - loss: 0.4482 - acc: 0.8750\n",
      "Epoch 43/100\n",
      "112/112 [==============================] - 0s 176us/step - loss: 0.4489 - acc: 0.8571\n",
      "Epoch 44/100\n",
      "112/112 [==============================] - 0s 142us/step - loss: 0.4480 - acc: 0.9018\n",
      "Epoch 45/100\n",
      "112/112 [==============================] - 0s 184us/step - loss: 0.4443 - acc: 0.8839\n",
      "Epoch 46/100\n",
      "112/112 [==============================] - 0s 167us/step - loss: 0.4444 - acc: 0.8929\n",
      "Epoch 47/100\n",
      "112/112 [==============================] - 0s 107us/step - loss: 0.4418 - acc: 0.9196\n",
      "Epoch 48/100\n",
      "112/112 [==============================] - 0s 163us/step - loss: 0.4431 - acc: 0.8839\n",
      "Epoch 49/100\n",
      "112/112 [==============================] - 0s 196us/step - loss: 0.4415 - acc: 0.8929\n",
      "Epoch 50/100\n",
      "112/112 [==============================] - 0s 114us/step - loss: 0.4408 - acc: 0.9107\n",
      "Epoch 51/100\n",
      "112/112 [==============================] - 0s 220us/step - loss: 0.4420 - acc: 0.8571\n",
      "Epoch 52/100\n",
      "112/112 [==============================] - 0s 116us/step - loss: 0.4389 - acc: 0.8750\n",
      "Epoch 53/100\n",
      "112/112 [==============================] - 0s 152us/step - loss: 0.4388 - acc: 0.9018\n",
      "Epoch 54/100\n",
      "112/112 [==============================] - 0s 101us/step - loss: 0.4361 - acc: 0.8750\n",
      "Epoch 55/100\n",
      "112/112 [==============================] - 0s 124us/step - loss: 0.4337 - acc: 0.9196\n",
      "Epoch 56/100\n",
      "112/112 [==============================] - 0s 113us/step - loss: 0.4341 - acc: 0.8839\n",
      "Epoch 57/100\n",
      "112/112 [==============================] - 0s 142us/step - loss: 0.4324 - acc: 0.8839\n",
      "Epoch 58/100\n",
      "112/112 [==============================] - 0s 145us/step - loss: 0.4344 - acc: 0.8929\n",
      "Epoch 59/100\n",
      "112/112 [==============================] - 0s 178us/step - loss: 0.4301 - acc: 0.9107\n",
      "Epoch 60/100\n",
      "112/112 [==============================] - 0s 133us/step - loss: 0.4301 - acc: 0.9018\n",
      "Epoch 61/100\n",
      "112/112 [==============================] - 0s 131us/step - loss: 0.4292 - acc: 0.9107\n",
      "Epoch 62/100\n",
      "112/112 [==============================] - 0s 224us/step - loss: 0.4278 - acc: 0.8482\n",
      "Epoch 63/100\n",
      "112/112 [==============================] - 0s 187us/step - loss: 0.4310 - acc: 0.9196\n",
      "Epoch 64/100\n",
      "112/112 [==============================] - 0s 175us/step - loss: 0.4268 - acc: 0.8839\n",
      "Epoch 65/100\n",
      "112/112 [==============================] - 0s 184us/step - loss: 0.4256 - acc: 0.9196\n",
      "Epoch 66/100\n",
      "112/112 [==============================] - 0s 114us/step - loss: 0.4237 - acc: 0.9107\n",
      "Epoch 67/100\n",
      "112/112 [==============================] - 0s 146us/step - loss: 0.4226 - acc: 0.8929\n",
      "Epoch 68/100\n",
      "112/112 [==============================] - 0s 165us/step - loss: 0.4225 - acc: 0.8571\n",
      "Epoch 69/100\n",
      "112/112 [==============================] - 0s 176us/step - loss: 0.4239 - acc: 0.9107\n",
      "Epoch 70/100\n",
      "112/112 [==============================] - 0s 186us/step - loss: 0.4209 - acc: 0.9018\n",
      "Epoch 71/100\n",
      "112/112 [==============================] - 0s 221us/step - loss: 0.4198 - acc: 0.9196\n",
      "Epoch 72/100\n",
      "112/112 [==============================] - 0s 182us/step - loss: 0.4190 - acc: 0.8929\n",
      "Epoch 73/100\n",
      "112/112 [==============================] - 0s 154us/step - loss: 0.4181 - acc: 0.8929\n",
      "Epoch 74/100\n",
      "112/112 [==============================] - 0s 177us/step - loss: 0.4163 - acc: 0.8929\n",
      "Epoch 75/100\n",
      "112/112 [==============================] - 0s 125us/step - loss: 0.4146 - acc: 0.9286\n",
      "Epoch 76/100\n",
      "112/112 [==============================] - 0s 131us/step - loss: 0.4138 - acc: 0.9018\n",
      "Epoch 77/100\n",
      "112/112 [==============================] - 0s 134us/step - loss: 0.4155 - acc: 0.8839\n",
      "Epoch 78/100\n",
      "112/112 [==============================] - 0s 111us/step - loss: 0.4120 - acc: 0.9107\n",
      "Epoch 79/100\n",
      "112/112 [==============================] - 0s 165us/step - loss: 0.4135 - acc: 0.9018\n",
      "Epoch 80/100\n",
      "112/112 [==============================] - 0s 178us/step - loss: 0.4142 - acc: 0.8661\n",
      "Epoch 81/100\n",
      "112/112 [==============================] - 0s 193us/step - loss: 0.4107 - acc: 0.9107\n",
      "Epoch 82/100\n",
      "112/112 [==============================] - 0s 106us/step - loss: 0.4095 - acc: 0.8929\n",
      "Epoch 83/100\n"
     ]
    },
    {
     "name": "stdout",
     "output_type": "stream",
     "text": [
      "112/112 [==============================] - 0s 154us/step - loss: 0.4142 - acc: 0.8929\n",
      "Epoch 84/100\n",
      "112/112 [==============================] - 0s 150us/step - loss: 0.4064 - acc: 0.9107\n",
      "Epoch 85/100\n",
      "112/112 [==============================] - 0s 153us/step - loss: 0.4068 - acc: 0.9107\n",
      "Epoch 86/100\n",
      "112/112 [==============================] - 0s 195us/step - loss: 0.4101 - acc: 0.9107\n",
      "Epoch 87/100\n",
      "112/112 [==============================] - 0s 131us/step - loss: 0.4094 - acc: 0.9107\n",
      "Epoch 88/100\n",
      "112/112 [==============================] - 0s 106us/step - loss: 0.4027 - acc: 0.9196\n",
      "Epoch 89/100\n",
      "112/112 [==============================] - 0s 160us/step - loss: 0.4038 - acc: 0.8929\n",
      "Epoch 90/100\n",
      "112/112 [==============================] - 0s 130us/step - loss: 0.4046 - acc: 0.9286\n",
      "Epoch 91/100\n",
      "112/112 [==============================] - 0s 138us/step - loss: 0.4030 - acc: 0.8661\n",
      "Epoch 92/100\n",
      "112/112 [==============================] - 0s 119us/step - loss: 0.4020 - acc: 0.9375\n",
      "Epoch 93/100\n",
      "112/112 [==============================] - 0s 131us/step - loss: 0.4032 - acc: 0.8929\n",
      "Epoch 94/100\n",
      "112/112 [==============================] - 0s 154us/step - loss: 0.4013 - acc: 0.9107\n",
      "Epoch 95/100\n",
      "112/112 [==============================] - 0s 140us/step - loss: 0.3989 - acc: 0.8750\n",
      "Epoch 96/100\n",
      "112/112 [==============================] - 0s 142us/step - loss: 0.4003 - acc: 0.9196\n",
      "Epoch 97/100\n",
      "112/112 [==============================] - 0s 179us/step - loss: 0.3996 - acc: 0.9107\n",
      "Epoch 98/100\n",
      "112/112 [==============================] - 0s 117us/step - loss: 0.3962 - acc: 0.8929\n",
      "Epoch 99/100\n",
      "112/112 [==============================] - 0s 186us/step - loss: 0.3965 - acc: 0.9286\n",
      "Epoch 100/100\n",
      "112/112 [==============================] - 0s 180us/step - loss: 0.3935 - acc: 0.9107\n"
     ]
    },
    {
     "data": {
      "text/plain": [
       "<keras.callbacks.History at 0x7fe7e01970f0>"
      ]
     },
     "execution_count": 13,
     "metadata": {},
     "output_type": "execute_result"
    }
   ],
   "source": [
    "model.fit(X_train, y_train_encoded,batch_size=16, epochs=100)"
   ]
  },
  {
   "cell_type": "markdown",
   "metadata": {},
   "source": [
    "## 5 - Extrair métrica do treino"
   ]
  },
  {
   "cell_type": "code",
   "execution_count": 14,
   "metadata": {
    "scrolled": false
   },
   "outputs": [
    {
     "name": "stdout",
     "output_type": "stream",
     "text": [
      "112/112 [==============================] - 0s 77us/step\n",
      "38/38 [==============================] - 0s 113us/step\n",
      "Acurracia dos dados treino:  [0.39161479473114014, 0.9464285714285714]\n",
      "Acurracia dos dados teste:  [0.3588954523990029, 0.9736842105263158]\n",
      "[1 0 2 1 1 0 1 2 1 1 2 0 0 0 0 1 2 1 1 2 0 2 0 2 2 2 2 2 0 0 0 0 1 0 0 2 1\n",
      " 0]\n",
      "[1 0 2 1 2 0 1 2 1 1 2 0 0 0 0 1 2 1 1 2 0 2 0 2 2 2 2 2 0 0 0 0 1 0 0 2 1\n",
      " 0]\n"
     ]
    }
   ],
   "source": [
    "def evaluate(model, X, y):\n",
    "    return model.evaluate(X, y)\n",
    "\n",
    "score = evaluate(model, X_train, y_train_encoded)\n",
    "score_teste = evaluate(model, x_test, y_test_encoded)\n",
    "\n",
    "print('Acurracia dos dados treino: ',score)\n",
    "print('Acurracia dos dados teste: ',score_teste)\n",
    "\n",
    "print(y_test[:])\n",
    "print(model.predict_classes(x_test))"
   ]
  },
  {
   "cell_type": "code",
   "execution_count": null,
   "metadata": {},
   "outputs": [],
   "source": []
  }
 ],
 "metadata": {
  "kernelspec": {
   "display_name": "Python 3",
   "language": "python",
   "name": "python3"
  },
  "language_info": {
   "codemirror_mode": {
    "name": "ipython",
    "version": 3
   },
   "file_extension": ".py",
   "mimetype": "text/x-python",
   "name": "python",
   "nbconvert_exporter": "python",
   "pygments_lexer": "ipython3",
   "version": "3.5.2"
  }
 },
 "nbformat": 4,
 "nbformat_minor": 2
}
