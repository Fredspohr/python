{
 "cells": [
  {
   "cell_type": "markdown",
   "metadata": {},
   "source": [
    "**Objetivos**\n",
    "\n",
    "A primeira atividade prática em laboratório virtual possui como objetivos principais:\n",
    "1. Utilizar um algoritmo de regressão para resolver um problema.\n",
    "2. Fazer a análise deste problema com uso de métricas de qualidade.\n",
    "3. Tornar mais robusta a solução do problema com uso de validação cruzada e busca de hiperparâmetros.\n",
    "\n",
    "Para esta linguagem, a linguagem utilizada será o Python 3, e a ferramenta de desenvolvimento recomendada é o Jupyter notebook."
   ]
  },
  {
   "cell_type": "markdown",
   "metadata": {},
   "source": [
    "**Enunciado**\n",
    "\n",
    "**Boston House Prices**\n",
    "\n",
    "**Total de amostras:** 506 | \n",
    "**Dimensionalidade:** 13 | \n",
    "**Tipo das features:** Números reais positivos\n",
    "\n",
    "O dataset de preços de casas em boston correlaciona diversas características acerca de imóveis com seus preços - e é preciso, usando regressão - prever preços de casas com um conjunto determinado de características. Suas features são as seguintes:\n",
    "\n",
    "1. CRIM      Taxa de crime per capita por cidade\n",
    "2. ZN        Proporção de lotes residenciais num raio de 25,000 pés quadrados\n",
    "3. INDUS     Proporção  de acres para negócios que não são varejo por cidade\n",
    "4. CHAS      Proximidade com o rio (1 se o lote toca o rio, 0 se não)\n",
    "5. NOX       Concentração de óxidos nítricos (partes por 10 milhões)\n",
    "6. RM        Numero médio de quartos por residência\n",
    "7. AGE       Proporção de unidades ocupadas pelos donos construídas antes de 1940\n",
    "8. DIS       Distância ponderada dos cinco grandes centros de trabalho de Boston\n",
    "9. RAD       Índice de acessibilidade à estradas radiais\n",
    "10. TAX      Razão de imposto sobre valor total da propriedade, em 10000s\n",
    "11. PTRATIO  Razão de pupílos por professor na cidade\n",
    "12. B        1000(Bk - 0.63)^2 onde Bk é a proporção de negros por cidade.\n",
    "13. LSTAT    % porcentagem de status inferior da população\n",
    "14. MEDV     Valor mediano das casas ocupadas em milhares\n",
    "\n",
    "Faça regressões para melhor entender a relação desses dados com os preços das casas. Tire conclusões relevantes. Não é necessário analisar todas as features.\n",
    "\n",
    "Fontes: http://scikit-learn.org/stable/modules/generated/sklearn.datasets.load_boston.html https://archive.ics.uci.edu/ml/machine-learning-databases/housing/housing.names\n",
    "\n",
    "Observação: Gerar gráficos que expliquem e ilustrem o seu problema não é parte obrigatória da resolução do trabalho, mas é um treino bastante recomendado."
   ]
  },
  {
   "cell_type": "code",
   "execution_count": 8,
   "metadata": {},
   "outputs": [
    {
     "data": {
      "text/plain": [
       "(506, 13)"
      ]
     },
     "execution_count": 8,
     "metadata": {},
     "output_type": "execute_result"
    }
   ],
   "source": [
    "from sklearn.datasets import load_boston\n",
    "\n",
    "boston = load_boston()\n",
    "X = boston.data\n",
    "y = boston.target\n",
    "\n",
    "# boston.data[:1, :] # dados da primeira casa\n",
    "# boston.data[:, :1] # dados da primeira feature\n",
    "# boston.feature_names # nomes de cada coluna\n",
    "\n",
    "# Importe o seu regressor, que usará para fazer a regressão\n",
    "\n",
    "# Instancie seu regressor\n",
    "\n",
    "# Faça o fit dele com os dados de treino (aqui você pode usar uma validação cruzada ou uma busca por hiperparâmetros)\n",
    "\n",
    "# Recupere os dados previstos\n",
    "\n",
    "# Calcule as métricas de qualidade\n",
    "\n",
    "# Exemplo de regressão: https://scikit-learn.org/stable/auto_examples/linear_model/plot_ols.html\n",
    "\n",
    "# Função para validação cruzada https://scikit-learn.org/stable/modules/generated/sklearn.model_selection.cross_val_score.html\n",
    "\n",
    "# Função para busca exaustiva em grid: https://scikit-learn.org/stable/modules/generated/sklearn.model_selection.GridSearchCV.html\n",
    "\n",
    "\n",
    "\n",
    "\n"
   ]
  },
  {
   "cell_type": "code",
   "execution_count": null,
   "metadata": {},
   "outputs": [],
   "source": []
  }
 ],
 "metadata": {
  "kernelspec": {
   "display_name": "Python 3",
   "language": "python",
   "name": "python3"
  },
  "language_info": {
   "codemirror_mode": {
    "name": "ipython",
    "version": 3
   },
   "file_extension": ".py",
   "mimetype": "text/x-python",
   "name": "python",
   "nbconvert_exporter": "python",
   "pygments_lexer": "ipython3",
   "version": "3.7.0"
  }
 },
 "nbformat": 4,
 "nbformat_minor": 2
}
