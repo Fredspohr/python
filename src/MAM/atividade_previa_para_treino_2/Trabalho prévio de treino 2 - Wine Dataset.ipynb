{
 "cells": [
  {
   "cell_type": "markdown",
   "metadata": {},
   "source": [
    "**Objetivos** \n",
    "\n",
    "A segunda atividade prática em laboratório virtual possui como objetivos principais:\n",
    "1. Utilizar um algoritmo de classificação para resolver um problema.\n",
    "2. Fazer a análise deste problema com uso de métricas de qualidade, comparando as soluções.\n",
    "3. Tornar mais robusta a solução do problema com uso de validação cruzada e busca de hiperparâmetros.\n",
    "\n",
    "Para esta linguagem, a linguagem utilizada será o Python 3, e a ferramenta de desenvolvimento recomendada é o Jupyter notebook\n"
   ]
  },
  {
   "cell_type": "markdown",
   "metadata": {},
   "source": [
    "**Enunciado**\n",
    "**Wine Dataset**\n",
    "**Classes:** 3 | \n",
    "**Amostras por classe:** 59,71,48 |\n",
    "**Total de amostras:** 178 |\n",
    "**Dimensionalidade:** 13 |\n",
    "**Tipo das features:** Números reais positivos \n",
    "\n",
    "Essa base de dados representa a análise química de vinhos produzidos na mesma região da Itália, mas provenientes de três variedades diferentes de uva. Seria possível, pela análise química, inferir a uva que prodiziu o vinho? Essa é a tarefa que seu classificador deve resolver. As features aqui não são descritas, por se tratarem de características químicas do vinho, específicas do domínio. Utilize pelo menos dois algoritmos e compare-os.\n",
    "\n",
    "Fontes: http://scikit-learn.org/stable/modules/generated/sklearn.datasets.load_wine.html https://archive.ics.uci.edu/ml/datasets/wine\n",
    "\n",
    "Observação: Gerar gráficos que expliquem e ilustrem o seu problema não é parte obrigatória da resolução do trabalho, mas é um treino bastante recomendado.\n"
   ]
  },
  {
   "cell_type": "code",
   "execution_count": 3,
   "metadata": {},
   "outputs": [
    {
     "data": {
      "text/plain": [
       "(178, 13)"
      ]
     },
     "execution_count": 3,
     "metadata": {},
     "output_type": "execute_result"
    }
   ],
   "source": [
    "from sklearn.datasets import load_wine\n",
    "\n",
    "wine = load_wine()\n",
    "X = wine.data\n",
    "y = wine.target\n",
    "\n",
    "#wine.target[[10, 80, 140]] # Para as amostras 10, 80 e 140, por exemplo.\n",
    "#list(wine.target_names) # Para saber a classe de cada uma dessas amostras.\n",
    "#wine.data[:1, :] # Dados do primeiro elemento\n",
    "#wine.data[:, :1] # Dados da primeira feature\n",
    "\n",
    "\n",
    "# Importe o seu classificador\n",
    "\n",
    "# Instancie seu classificador\n",
    "\n",
    "# Faça o fit dele com os dados de treino (aqui você pode usar uma validação cruzada ou uma busca por hiperparâmetros)\n",
    "\n",
    "# Recupere os dados previstos\n",
    "\n",
    "# Calcule as métricas de qualidade\n",
    "\n",
    "# Exemplo de classificação (desça até \"examples\"): https://scikit-learn.org/stable/modules/generated/sklearn.ensemble.RandomForestClassifier.html#sklearn.ensemble.RandomForestClassifier\n",
    "\n",
    "# Função para validação cruzada https://scikit-learn.org/stable/modules/generated/sklearn.model_selection.cross_val_score.html\n",
    "\n",
    "# Função para busca exaustiva em grid: https://scikit-learn.org/stable/modules/generated/sklearn.model_selection.GridSearchCV.html"
   ]
  },
  {
   "cell_type": "code",
   "execution_count": null,
   "metadata": {},
   "outputs": [],
   "source": []
  }
 ],
 "metadata": {
  "kernelspec": {
   "display_name": "Python 3",
   "language": "python",
   "name": "python3"
  },
  "language_info": {
   "codemirror_mode": {
    "name": "ipython",
    "version": 3
   },
   "file_extension": ".py",
   "mimetype": "text/x-python",
   "name": "python",
   "nbconvert_exporter": "python",
   "pygments_lexer": "ipython3",
   "version": "3.7.0"
  }
 },
 "nbformat": 4,
 "nbformat_minor": 2
}
