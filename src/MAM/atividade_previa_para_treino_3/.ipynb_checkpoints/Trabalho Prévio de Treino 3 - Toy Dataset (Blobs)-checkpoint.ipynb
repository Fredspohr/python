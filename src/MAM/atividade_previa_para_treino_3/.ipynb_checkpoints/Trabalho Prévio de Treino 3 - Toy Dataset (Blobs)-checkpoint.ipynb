{
 "cells": [
  {
   "cell_type": "markdown",
   "metadata": {},
   "source": [
    "**Objetivos** \n",
    "A terceira atividade prática em laboratório virtual possui como objetivos principais:\n",
    "\n",
    "1. Utilizar dois algoritmos de agrupamento para resolver um problema com uma base de dados de exemplo – um toy example.\n",
    "2. Fazer a análise deste problema com uso de métricas de qualidade, comparando as soluções.\n",
    "3. Tornar mais robusta a solução do problema com uso de validação cruzada e busca de hiperparâmetros.\n",
    "\n",
    "Para esta linguagem, a linguagem utilizada será o Python 3, e a ferramenta de desenvolvimento recomendada é o Jupyter notebook."
   ]
  },
  {
   "cell_type": "markdown",
   "metadata": {},
   "source": [
    "**Enunciado**\n",
    "\n",
    "**Toy Dataset – Blobs**\n",
    "\n",
    "**Número de features:** 10 |\n",
    "**Número de centros:** 3 |\n",
    "**Número de amostras:** 100\n",
    "\n",
    "Este trabalho de agrupamento não lida com um conjunto de dados real, mas com um exemplo gerado de forma aleatória. Seu algoritmo deve tentar agrupar, da melhor maneira possível, os elementos gerados nesse cluster. Utilize pelo menos dois algoritmos e compare-os.\n",
    "\n",
    "Fonte: http://scikit-learn.org/stable/auto_examples/cluster/plot_cluster_comparison.html\n",
    "Observação: Gerar gráficos que expliquem e ilustrem o seu problema não é parte obrigatória da resolução do trabalho, mas é um treino bastante recomendado."
   ]
  },
  {
   "cell_type": "code",
   "execution_count": null,
   "metadata": {},
   "outputs": [],
   "source": [
    "from sklearn.datasets.samples_generator import make_blobs\n",
    "\n",
    "X, y = make_blobs(n_samples=100, centers=3, n_features=10, random_state=0)\n",
    "\n",
    "\n",
    "#X[1, :] # As features do primeiro elemento\n",
    "#y[0] # A qual cluster ele pertence\n",
    "\n",
    "# Importe o seu algoritmo de agrupamento\n",
    "\n",
    "# Instancie seu algoritmo de agrupamento\n",
    "\n",
    "# Faça o fit dele com os dados de treino (aqui você pode usar uma validação cruzada ou uma busca por hiperparâmetros)\n",
    "\n",
    "# Recupere os dados previstos\n",
    "\n",
    "# Calcule as métricas de qualidade\n",
    "\n",
    "# Exemplo de agrupamento (desça até examples): # Exemplo de agrupamento (desça até examples): https://scikit-learn.org/stable/modules/generated/sklearn.cluster.AgglomerativeClustering.html#sklearn.cluster.AgglomerativeClustering\n",
    "\n",
    "# Função para validação cruzada https://scikit-learn.org/stable/modules/generated/sklearn.model_selection.cross_val_score.html\n",
    "\n",
    "# Função para busca exaustiva em grid: https://scikit-learn.org/stable/modules/generated/sklearn.model_selection.GridSearchCV.html"
   ]
  }
 ],
 "metadata": {
  "kernelspec": {
   "display_name": "Python 3",
   "language": "python",
   "name": "python3"
  },
  "language_info": {
   "codemirror_mode": {
    "name": "ipython",
    "version": 3
   },
   "file_extension": ".py",
   "mimetype": "text/x-python",
   "name": "python",
   "nbconvert_exporter": "python",
   "pygments_lexer": "ipython3",
   "version": "3.7.0"
  }
 },
 "nbformat": 4,
 "nbformat_minor": 2
}
