{
 "cells": [
  {
   "cell_type": "markdown",
   "metadata": {},
   "source": [
    "**Objetivos**\n",
    "O Trabalho Final em laboratório virtual possui como objetivos principais:\n",
    "1. Utilizar dois algoritmos de classificação para resolver um problema.\n",
    "2. Fazer a análise deste problema com uso de métricas de qualidade, comparando as soluções.\n",
    "3. Tornar mais robusta a solução do problema com uso de validação cruzada e busca de hiperparâmetros.\n",
    "\n",
    "Para este trabalho, a linguagem utilizada será o Python 3, e a ferramenta de desenvolvimento recomendada é o Jupyter notebook."
   ]
  },
  {
   "cell_type": "markdown",
   "metadata": {},
   "source": [
    "**Enunciado**\n",
    "\n",
    "**Trabalho Final - O dataset IRIS**\n",
    "**Classes:** 3 |\n",
    "**Amostras por classe:** 50 |\n",
    "**Total de amostras:** 150 |\n",
    "**Dimensionalidade:** 4 |\n",
    "**Tipo das features:** Números reais positivos\n",
    "\n",
    "O conjunto de dados IRIS talvez seja o mais clássico dos conjuntos de testes de algoritmos de classificação. Ele divide amostras de plantas em três espécies diferentes e tem, como features, a altura e largura de duas partes da planta: a sépala e as pétalas.\n",
    "\n",
    "Neste trabalho, você deve classificar esse conjunto de dados com pelo menos dois algoritmos. Você deverá analisá-los segundo as métricas de qualidade que julgar relevantes, e utilizar técnicas de busca de hiperparâmetros e validação cruzada para tornar seus resultados mais robustos. As perguntas abaixo guiarão seus trabalhos.\n",
    "\n",
    "Lembre-se de que a qualidade do seu trabalho será medida, principalmente, de acordo com suas explicações e justificativas. O resultado final do seu algoritmo, embora espere-se que seja satisfatório, é menos importante.\n",
    "\n",
    "Fonte: http://scikit-learn.org/stable/modules/generated/sklearn.datasets.load_iris.html\n",
    "\n",
    "Observação: Gerar gráficos que expliquem e ilustrem o seu problema não é parte obrigatória da resolução do trabalho, mas é um treino bastante recomendado."
   ]
  },
  {
   "cell_type": "code",
   "execution_count": 1,
   "metadata": {},
   "outputs": [],
   "source": [
    "from sklearn import datasets\n",
    "from sklearn.decomposition import PCA\n",
    "\n",
    "iris = datasets.load_iris()\n",
    "X = iris.data[:, :2]  # pegamos as primeiras duas features aqui. Pegue as outras se quiser.\n",
    "y = iris.target\n",
    "\n",
    "# y[0] # classe do primeiro elemento\n",
    "# X[:1, :] # primeiro elemento a classificar"
   ]
  },
  {
   "cell_type": "code",
   "execution_count": null,
   "metadata": {},
   "outputs": [],
   "source": []
  }
 ],
 "metadata": {
  "kernelspec": {
   "display_name": "Python 3",
   "language": "python",
   "name": "python3"
  },
  "language_info": {
   "codemirror_mode": {
    "name": "ipython",
    "version": 3
   },
   "file_extension": ".py",
   "mimetype": "text/x-python",
   "name": "python",
   "nbconvert_exporter": "python",
   "pygments_lexer": "ipython3",
   "version": "3.7.0"
  }
 },
 "nbformat": 4,
 "nbformat_minor": 2
}
